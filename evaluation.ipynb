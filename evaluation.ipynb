{
 "cells": [
  {
   "cell_type": "code",
   "execution_count": 2,
   "id": "82bb28ea",
   "metadata": {},
   "outputs": [
    {
     "name": "stderr",
     "output_type": "stream",
     "text": [
      "D:\\applications\\anaconda\\envs\\chatbot\\lib\\site-packages\\tqdm\\auto.py:21: TqdmWarning: IProgress not found. Please update jupyter and ipywidgets. See https://ipywidgets.readthedocs.io/en/stable/user_install.html\n",
      "  from .autonotebook import tqdm as notebook_tqdm\n"
     ]
    }
   ],
   "source": [
    "#!pip install arxiv # -i https://pypi.tuna.tsinghua.edu.cn/simple\n",
    "from langchain_nvidia_ai_endpoints import NVIDIAEmbeddings\n",
    "from langchain.vectorstores import FAISS\n",
    "#from llama_index.embeddings import LangchainEmbedding\n",
    "from langchain_nvidia_ai_endpoints import ChatNVIDIA\n",
    "from langchain.text_splitter import RecursiveCharacterTextSplitter\n",
    "from langchain.document_loaders import UnstructuredFileLoader\n",
    "from langchain.document_transformers import LongContextReorder\n",
    "from langchain_core.runnables import RunnableLambda\n",
    "from langchain_core.runnables.passthrough import RunnableAssign\n",
    "from langchain_core.prompts import ChatPromptTemplate\n",
    "from langchain_core.output_parsers import StrOutputParser\n",
    "from faiss import IndexFlatL2\n",
    "from langchain_community.docstore.in_memory import InMemoryDocstore\n",
    "\n",
    "import gradio as gr\n",
    "from functools import partial\n",
    "from operator import itemgetter\n",
    "import os\n",
    "from functools import partial\n",
    "from rich.console import Console\n",
    "from rich.style import Style\n",
    "from rich.theme import Theme"
   ]
  },
  {
   "cell_type": "code",
   "execution_count": 4,
   "id": "f68d7f08",
   "metadata": {},
   "outputs": [],
   "source": [
    "import os\n",
    "nvidia_api_key = \"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\"\n",
    "# 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\n",
    "assert nvidia_api_key.startswith(\"nvapi-\"), f\"{nvidia_api_key[:5]}... is not a valid key\"\n",
    "os.environ[\"NVIDIA_API_KEY\"] = nvidia_api_key"
   ]
  },
  {
   "cell_type": "code",
   "execution_count": 5,
   "id": "ec2310c5",
   "metadata": {},
   "outputs": [],
   "source": [
    "llm = ChatNVIDIA(model=\"ai-mixtral-8x7b-instruct\")"
   ]
  },
  {
   "cell_type": "code",
   "execution_count": 6,
   "id": "f339151a",
   "metadata": {},
   "outputs": [],
   "source": [
    "embedder = NVIDIAEmbeddings(model=\"ai-embed-qa-4\", truncate=\"END\")"
   ]
  },
  {
   "cell_type": "code",
   "execution_count": 13,
   "id": "8a7b807d",
   "metadata": {},
   "outputs": [],
   "source": [
    "from langchain.document_transformers import LongContextReorder\n",
    "from langchain.prompts import ChatPromptTemplate\n",
    "from langchain.schema.output_parser import StrOutputParser\n",
    "from langchain.schema.runnable import RunnableLambda\n",
    "from langchain.schema.runnable.passthrough import RunnableAssign\n",
    "from langchain_nvidia_ai_endpoints import ChatNVIDIA, NVIDIAEmbeddings\n",
    "\n",
    "from functools import partial\n",
    "from operator import itemgetter\n",
    "norm_style = Style(bold=True)\n",
    "########################################################################\n",
    "## Utility Runnables/Methods\n",
    "def RPrint(preface=\"\"):\n",
    "    \"\"\"Simple passthrough \"prints, then returns\" chain\"\"\"\n",
    "    def print_and_return(x, preface):\n",
    "        if preface: print(preface, end=\"\")\n",
    "        pprint(x)\n",
    "        return x\n",
    "    return RunnableLambda(partial(print_and_return, preface=preface))\n",
    "\n",
    "def docs2str(docs, title=\"Document\"):\n",
    "    \"\"\"Useful utility for making chunks into context string. Optional, but useful\"\"\"\n",
    "    out_str = \"\"\n",
    "    for doc in docs:\n",
    "        doc_name = getattr(doc, 'metadata', {}).get('Title', title)\n",
    "        if doc_name:\n",
    "            out_str += f\"[Quote from {doc_name}] \"\n",
    "        out_str += getattr(doc, 'page_content', str(doc)) + \"\\n\"\n",
    "    return out_str\n",
    "\n",
    "console = Console()\n",
    "base_style = Style(color=\"#76B900\", bold=True)\n",
    "pprint = partial(console.print, style=base_style)\n",
    "pprint2 = partial(console.print, style=norm_style)\n",
    "## Optional; Reorders longer documents to center of output text\n",
    "long_reorder = RunnableLambda(LongContextReorder().transform_documents)"
   ]
  },
  {
   "cell_type": "code",
   "execution_count": 9,
   "id": "4f3d5526",
   "metadata": {},
   "outputs": [
    {
     "data": {
      "text/html": [
       "<pre style=\"white-space:pre;overflow-x:auto;line-height:normal;font-family:Menlo,'DejaVu Sans Mono',consolas,'Courier New',monospace\"><span style=\"color: #76b900; text-decoration-color: #76b900; font-weight: bold\">Constructed aggregate docstore with </span><span style=\"color: #008080; text-decoration-color: #008080; font-weight: bold\">7573</span><span style=\"color: #76b900; text-decoration-color: #76b900; font-weight: bold\"> chunks</span>\n",
       "</pre>\n"
      ],
      "text/plain": [
       "\u001b[1;38;2;118;185;0mConstructed aggregate docstore with \u001b[0m\u001b[1;36m7573\u001b[0m\u001b[1;38;2;118;185;0m chunks\u001b[0m\n"
      ]
     },
     "metadata": {},
     "output_type": "display_data"
    },
    {
     "data": {
      "text/html": [
       "<pre style=\"white-space:pre;overflow-x:auto;line-height:normal;font-family:Menlo,'DejaVu Sans Mono',consolas,'Courier New',monospace\"><span style=\"color: #76b900; text-decoration-color: #76b900; font-weight: bold\">Sample Chunk:</span>\n",
       "</pre>\n"
      ],
      "text/plain": [
       "\u001b[1;38;2;118;185;0mSample Chunk:\u001b[0m\n"
      ]
     },
     "metadata": {},
     "output_type": "display_data"
    },
    {
     "name": "stdout",
     "output_type": "stream",
     "text": [
      "Paper: unknown\n",
      "\n",
      "Summary: unknown\n",
      "\n",
      "Page Body: He now understood that the Wallfacers had a mission far weirder than any in history, its logic cold and twisted, yet unyielding as the chains that bound Prometheus. It was an unliftable curse impossible for the Wallfacers to break under their own strength. No matter how he struggled, the totality of everything would be greeted with the Wallfacer smile and imbued with the significance of the Wallfacer Project:\n",
      "\n",
      "How are we supposed to know whether or not you are working?\n"
     ]
    }
   ],
   "source": [
    "## Make sure you have docstore_index.tgz in your working directory\n",
    "from langchain_nvidia_ai_endpoints import NVIDIAEmbeddings\n",
    "from langchain_community.vectorstores import FAISS\n",
    "\n",
    "# embedder = NVIDIAEmbeddings(model=\"nvidia/embed-qa-4\", truncate=\"END\")\n",
    "\n",
    "docstore = FAISS.load_local(\"docstore_index\", embedder, allow_dangerous_deserialization=True)\n",
    "docs = list(docstore.docstore._dict.values())\n",
    "\n",
    "def format_chunk(doc):\n",
    "    return (\n",
    "        f\"Paper: {doc.metadata.get('Title', 'unknown')}\"\n",
    "        f\"\\n\\nSummary: {doc.metadata.get('Summary', 'unknown')}\"\n",
    "        f\"\\n\\nPage Body: {doc.page_content}\"\n",
    "    )\n",
    "\n",
    "## This printout just confirms that your store has been retrieved\n",
    "pprint(f\"Constructed aggregate docstore with {len(docstore.docstore._dict)} chunks\")\n",
    "pprint(f\"Sample Chunk:\")\n",
    "print(format_chunk(docs[len(docs)//2]))"
   ]
  },
  {
   "cell_type": "code",
   "execution_count": 10,
   "id": "f445560c",
   "metadata": {},
   "outputs": [],
   "source": [
    "llm = llm | StrOutputParser()"
   ]
  },
  {
   "cell_type": "code",
   "execution_count": 14,
   "id": "bc4dbc86",
   "metadata": {},
   "outputs": [
    {
     "data": {
      "text/html": [
       "<pre style=\"white-space:pre;overflow-x:auto;line-height:normal;font-family:Menlo,'DejaVu Sans Mono',consolas,'Courier New',monospace\"><span style=\"font-weight: bold\">QA Pair </span><span style=\"color: #008080; text-decoration-color: #008080; font-weight: bold\">1</span>\n",
       "</pre>\n"
      ],
      "text/plain": [
       "\u001b[1mQA Pair \u001b[0m\u001b[1;36m1\u001b[0m\n"
      ]
     },
     "metadata": {},
     "output_type": "display_data"
    },
    {
     "data": {
      "text/html": [
       "<pre style=\"white-space:pre;overflow-x:auto;line-height:normal;font-family:Menlo,'DejaVu Sans Mono',consolas,'Courier New',monospace\"><span style=\"font-weight: bold\">Question: How did Tianming describe the possibility of achieving spaceflight at low speeds?</span>\n",
       "</pre>\n"
      ],
      "text/plain": [
       "\u001b[1mQuestion: How did Tianming describe the possibility of achieving spaceflight at low speeds?\u001b[0m\n"
      ]
     },
     "metadata": {},
     "output_type": "display_data"
    },
    {
     "data": {
      "text/html": [
       "<pre style=\"white-space:pre;overflow-x:auto;line-height:normal;font-family:Menlo,'DejaVu Sans Mono',consolas,'Courier New',monospace\"><span style=\"color: #76b900; text-decoration-color: #76b900; font-weight: bold\">Answer: According to the document, Tianming explained that as long as one maintained an ever-upward speed, it was </span>\n",
       "<span style=\"color: #76b900; text-decoration-color: #76b900; font-weight: bold\">possible to go into space at low speeds, even as slow as a car or even walking.</span>\n",
       "</pre>\n"
      ],
      "text/plain": [
       "\u001b[1;38;2;118;185;0mAnswer: According to the document, Tianming explained that as long as one maintained an ever-upward speed, it was \u001b[0m\n",
       "\u001b[1;38;2;118;185;0mpossible to go into space at low speeds, even as slow as a car or even walking.\u001b[0m\n"
      ]
     },
     "metadata": {},
     "output_type": "display_data"
    },
    {
     "name": "stdout",
     "output_type": "stream",
     "text": [
      "\n"
     ]
    },
    {
     "data": {
      "text/html": [
       "<pre style=\"white-space:pre;overflow-x:auto;line-height:normal;font-family:Menlo,'DejaVu Sans Mono',consolas,'Courier New',monospace\"><span style=\"font-weight: bold\">QA Pair </span><span style=\"color: #008080; text-decoration-color: #008080; font-weight: bold\">2</span>\n",
       "</pre>\n"
      ],
      "text/plain": [
       "\u001b[1mQA Pair \u001b[0m\u001b[1;36m2\u001b[0m\n"
      ]
     },
     "metadata": {},
     "output_type": "display_data"
    },
    {
     "data": {
      "text/html": [
       "<pre style=\"white-space:pre;overflow-x:auto;line-height:normal;font-family:Menlo,'DejaVu Sans Mono',consolas,'Courier New',monospace\"><span style=\"font-weight: bold\">Question: What technology did the IDC members compare the lighthouse to during their investigation?</span>\n",
       "</pre>\n"
      ],
      "text/plain": [
       "\u001b[1mQuestion: What technology did the IDC members compare the lighthouse to during their investigation?\u001b[0m\n"
      ]
     },
     "metadata": {},
     "output_type": "display_data"
    },
    {
     "data": {
      "text/html": [
       "<pre style=\"white-space:pre;overflow-x:auto;line-height:normal;font-family:Menlo,'DejaVu Sans Mono',consolas,'Courier New',monospace\"><span style=\"color: #76b900; text-decoration-color: #76b900; font-weight: bold\">Answer: The IDC members compared the lighthouse to the centrifugal governor for steam engines. However, they </span>\n",
       "<span style=\"color: #76b900; text-decoration-color: #76b900; font-weight: bold\">determined that this technology was not what they were looking for during their investigation.</span>\n",
       "</pre>\n"
      ],
      "text/plain": [
       "\u001b[1;38;2;118;185;0mAnswer: The IDC members compared the lighthouse to the centrifugal governor for steam engines. However, they \u001b[0m\n",
       "\u001b[1;38;2;118;185;0mdetermined that this technology was not what they were looking for during their investigation.\u001b[0m\n"
      ]
     },
     "metadata": {},
     "output_type": "display_data"
    },
    {
     "name": "stdout",
     "output_type": "stream",
     "text": [
      "\n"
     ]
    },
    {
     "data": {
      "text/html": [
       "<pre style=\"white-space:pre;overflow-x:auto;line-height:normal;font-family:Menlo,'DejaVu Sans Mono',consolas,'Courier New',monospace\"><span style=\"font-weight: bold\">QA Pair </span><span style=\"color: #008080; text-decoration-color: #008080; font-weight: bold\">3</span>\n",
       "</pre>\n"
      ],
      "text/plain": [
       "\u001b[1mQA Pair \u001b[0m\u001b[1;36m3\u001b[0m\n"
      ]
     },
     "metadata": {},
     "output_type": "display_data"
    },
    {
     "data": {
      "text/html": [
       "<pre style=\"white-space:pre;overflow-x:auto;line-height:normal;font-family:Menlo,'DejaVu Sans Mono',consolas,'Courier New',monospace\"><span style=\"font-weight: bold\">Question: Why did Cheng Xin find herself so overcome with emotion in front of the container of liquid helium, and </span>\n",
       "<span style=\"font-weight: bold\">what major event occurred in the document2 that involved a droplet's journey?</span>\n",
       "</pre>\n"
      ],
      "text/plain": [
       "\u001b[1mQuestion: Why did Cheng Xin find herself so overcome with emotion in front of the container of liquid helium, and \u001b[0m\n",
       "\u001b[1mwhat major event occurred in the document2 that involved a droplet's journey?\u001b[0m\n"
      ]
     },
     "metadata": {},
     "output_type": "display_data"
    },
    {
     "data": {
      "text/html": [
       "<pre style=\"white-space:pre;overflow-x:auto;line-height:normal;font-family:Menlo,'DejaVu Sans Mono',consolas,'Courier New',monospace\"><span style=\"color: #76b900; text-decoration-color: #76b900; font-weight: bold\">Answer: According to Document1, Cheng Xin was overwhelmed with sorrow while in front of the container of liquid </span>\n",
       "<span style=\"color: #76b900; text-decoration-color: #76b900; font-weight: bold\">helium. The document doesn't provide information on the cause of her sorrow. As for Document2, it discusses an </span>\n",
       "<span style=\"color: #76b900; text-decoration-color: #76b900; font-weight: bold\">event where a droplet passed through several locations, starting from Newton, then crossing twenty kilometers to </span>\n",
       "<span style=\"color: #76b900; text-decoration-color: #76b900; font-weight: bold\">Enlightenment, and eventually penetrating Cretaceous, which was moving in the opposite direction. The document </span>\n",
       "<span style=\"color: #76b900; text-decoration-color: #76b900; font-weight: bold\">doesn't provide additional context or details about the significance of this event.</span>\n",
       "</pre>\n"
      ],
      "text/plain": [
       "\u001b[1;38;2;118;185;0mAnswer: According to Document1, Cheng Xin was overwhelmed with sorrow while in front of the container of liquid \u001b[0m\n",
       "\u001b[1;38;2;118;185;0mhelium. The document doesn't provide information on the cause of her sorrow. As for Document2, it discusses an \u001b[0m\n",
       "\u001b[1;38;2;118;185;0mevent where a droplet passed through several locations, starting from Newton, then crossing twenty kilometers to \u001b[0m\n",
       "\u001b[1;38;2;118;185;0mEnlightenment, and eventually penetrating Cretaceous, which was moving in the opposite direction. The document \u001b[0m\n",
       "\u001b[1;38;2;118;185;0mdoesn't provide additional context or details about the significance of this event.\u001b[0m\n"
      ]
     },
     "metadata": {},
     "output_type": "display_data"
    },
    {
     "name": "stdout",
     "output_type": "stream",
     "text": [
      "\n"
     ]
    }
   ],
   "source": [
    "import random\n",
    "\n",
    "num_questions = 3\n",
    "synth_questions = []\n",
    "synth_answers = []\n",
    "\n",
    "simple_prompt = ChatPromptTemplate.from_template('INSTRUCTION:\\n\\n{system}\\n\\nINPUT:\\n\\n{input}')\n",
    "\n",
    "for i in range(num_questions):\n",
    "    doc1, doc2 = random.sample(docs, 2)\n",
    "    sys_msg = (\n",
    "        \"Use the documents provided by the user to generate an interesting question-answer pair.\"\n",
    "        \" Try to use both documents if possible, and rely more on the document bodies than the summary.\"\n",
    "        \" Use the format:\\nQuestion: (good question, 1-3 sentences, detailed)\\n\\nAnswer: (answer derived from the documents)\"\n",
    "    )\n",
    "    usr_msg = (\n",
    "        f\"Document1: {format_chunk(doc1)}\\n\\n\"\n",
    "        f\"Document2: {format_chunk(doc2)}\"\n",
    "    )\n",
    "\n",
    "    qa_pair = (simple_prompt | llm).invoke({'system': sys_msg, 'input': usr_msg})\n",
    "    synth_questions += [qa_pair.split('\\n\\n')[0]]\n",
    "    synth_answers += [qa_pair.split('\\n\\n')[1]]\n",
    "    pprint2(f\"QA Pair {i+1}\")\n",
    "    pprint2(synth_questions[-1])\n",
    "    pprint(synth_answers[-1])\n",
    "    print()"
   ]
  },
  {
   "cell_type": "code",
   "execution_count": null,
   "id": "a59dadf9",
   "metadata": {},
   "outputs": [],
   "source": []
  },
  {
   "cell_type": "code",
   "execution_count": 18,
   "id": "fef65324",
   "metadata": {},
   "outputs": [
    {
     "data": {
      "text/html": [
       "<pre style=\"white-space:pre;overflow-x:auto;line-height:normal;font-family:Menlo,'DejaVu Sans Mono',consolas,'Courier New',monospace\"><span style=\"color: #76b900; text-decoration-color: #76b900; font-weight: bold\">{</span>\n",
       "<span style=\"color: #76b900; text-decoration-color: #76b900; font-weight: bold\">    </span><span style=\"color: #008000; text-decoration-color: #008000\">'input'</span><span style=\"color: #76b900; text-decoration-color: #76b900; font-weight: bold\">: </span><span style=\"color: #008000; text-decoration-color: #008000\">'Question: How did Tianming describe the possibility of achieving spaceflight at low speeds?'</span><span style=\"color: #76b900; text-decoration-color: #76b900; font-weight: bold\">,</span>\n",
       "<span style=\"color: #76b900; text-decoration-color: #76b900; font-weight: bold\">    </span><span style=\"color: #008000; text-decoration-color: #008000\">'score'</span><span style=\"color: #76b900; text-decoration-color: #76b900; font-weight: bold\">: </span><span style=\"color: #800080; text-decoration-color: #800080; font-weight: bold\">array</span><span style=\"color: #76b900; text-decoration-color: #76b900; font-weight: bold\">([</span><span style=\"color: #008080; text-decoration-color: #008080; font-weight: bold\">1</span><span style=\"color: #76b900; text-decoration-color: #76b900; font-weight: bold\">])</span>\n",
       "<span style=\"color: #76b900; text-decoration-color: #76b900; font-weight: bold\">}</span>\n",
       "</pre>\n"
      ],
      "text/plain": [
       "\u001b[1;38;2;118;185;0m{\u001b[0m\n",
       "\u001b[1;38;2;118;185;0m    \u001b[0m\u001b[32m'input'\u001b[0m\u001b[1;38;2;118;185;0m: \u001b[0m\u001b[32m'Question: How did Tianming describe the possibility of achieving spaceflight at low speeds?'\u001b[0m\u001b[1;38;2;118;185;0m,\u001b[0m\n",
       "\u001b[1;38;2;118;185;0m    \u001b[0m\u001b[32m'score'\u001b[0m\u001b[1;38;2;118;185;0m: \u001b[0m\u001b[1;35marray\u001b[0m\u001b[1;38;2;118;185;0m(\u001b[0m\u001b[1;38;2;118;185;0m[\u001b[0m\u001b[1;36m1\u001b[0m\u001b[1;38;2;118;185;0m]\u001b[0m\u001b[1;38;2;118;185;0m)\u001b[0m\n",
       "\u001b[1;38;2;118;185;0m}\u001b[0m\n"
      ]
     },
     "metadata": {},
     "output_type": "display_data"
    },
    {
     "data": {
      "text/html": [
       "<pre style=\"white-space:pre;overflow-x:auto;line-height:normal;font-family:Menlo,'DejaVu Sans Mono',consolas,'Courier New',monospace\"><span style=\"color: #76b900; text-decoration-color: #76b900; font-weight: bold\">{</span>\n",
       "<span style=\"color: #76b900; text-decoration-color: #76b900; font-weight: bold\">    </span><span style=\"color: #008000; text-decoration-color: #008000\">'input'</span><span style=\"color: #76b900; text-decoration-color: #76b900; font-weight: bold\">: </span><span style=\"color: #008000; text-decoration-color: #008000\">'Question: How did Tianming describe the possibility of achieving spaceflight at low speeds?'</span><span style=\"color: #76b900; text-decoration-color: #76b900; font-weight: bold\">,</span>\n",
       "<span style=\"color: #76b900; text-decoration-color: #76b900; font-weight: bold\">    </span><span style=\"color: #008000; text-decoration-color: #008000\">'score'</span><span style=\"color: #76b900; text-decoration-color: #76b900; font-weight: bold\">: </span><span style=\"color: #800080; text-decoration-color: #800080; font-weight: bold\">array</span><span style=\"color: #76b900; text-decoration-color: #76b900; font-weight: bold\">([</span><span style=\"color: #008080; text-decoration-color: #008080; font-weight: bold\">1</span><span style=\"color: #76b900; text-decoration-color: #76b900; font-weight: bold\">]),</span>\n",
       "<span style=\"color: #76b900; text-decoration-color: #76b900; font-weight: bold\">    </span><span style=\"color: #008000; text-decoration-color: #008000\">'history'</span><span style=\"color: #76b900; text-decoration-color: #76b900; font-weight: bold\">: </span><span style=\"color: #008000; text-decoration-color: #008000\">''</span><span style=\"color: #76b900; text-decoration-color: #76b900; font-weight: bold\">,</span>\n",
       "<span style=\"color: #76b900; text-decoration-color: #76b900; font-weight: bold\">    </span><span style=\"color: #008000; text-decoration-color: #008000\">'context'</span><span style=\"color: #76b900; text-decoration-color: #76b900; font-weight: bold\">: </span><span style=\"color: #008000; text-decoration-color: #008000\">'[Quote from Document] Unlike folding space, curvature propulsion couldn’t get a spaceship to its </span>\n",
       "<span style=\"color: #008000; text-decoration-color: #008000\">destination instantaneously, but it would be possible to drive it asymptotically to the speed of light. Until Yun </span>\n",
       "<span style=\"color: #008000; text-decoration-color: #008000\">Tianming’s message had been correctly interpreted, curvature propulsion remained a dream, like hundreds of other </span>\n",
       "<span style=\"color: #008000; text-decoration-color: #008000\">proposals for lightspeed spaceflight. No one knew whether it was possible at either a theory or practice </span>\n",
       "<span style=\"color: #008000; text-decoration-color: #008000\">level.\\n\\nBroadcast Era, Year 7 Yun Tianming’s Fairy Tales\\n[Quote from Document] . Cheng Xin clearly recalled that</span>\n",
       "<span style=\"color: #008000; text-decoration-color: #008000\">he had said at the end that it would be an amazing sight to be in the vicinity of the moon’s orbit and watch the </span>\n",
       "<span style=\"color: #008000; text-decoration-color: #008000\">gigantic satellite sweep overhead. She was now experiencing the low-speed spaceflight he had imagined.\\n[Quote from</span>\n",
       "<span style=\"color: #008000; text-decoration-color: #008000\">Document] “But aren’t we studying to be aerospace engineers? Our goal is to leave the Earth.” “That’s so that we </span>\n",
       "<span style=\"color: #008000; text-decoration-color: #008000\">may make life here better, not abandon the planet.” Tianming understood that Cheng Xin had meant to gently point </span>\n",
       "<span style=\"color: #008000; text-decoration-color: #008000\">out his own aloofness and solitude. But he had no response. This was the closest he had ever been to her. Maybe it </span>\n",
       "<span style=\"color: #008000; text-decoration-color: #008000\">was his imagination, but he thought he could feel the warmth from her body\\n[Quote from Document] . Cheng Xin </span>\n",
       "<span style=\"color: #008000; text-decoration-color: #008000\">recalled a conversation during college where Tianming had pointed out that in principle, it was perfectly possible </span>\n",
       "<span style=\"color: #008000; text-decoration-color: #008000\">to achieve spaceflight at low speeds. As long as one maintained an ever-upward speed, one could go into space going</span>\n",
       "<span style=\"color: #008000; text-decoration-color: #008000\">as slow as a car or even walking\\n'</span>\n",
       "<span style=\"color: #76b900; text-decoration-color: #76b900; font-weight: bold\">}</span>\n",
       "</pre>\n"
      ],
      "text/plain": [
       "\u001b[1;38;2;118;185;0m{\u001b[0m\n",
       "\u001b[1;38;2;118;185;0m    \u001b[0m\u001b[32m'input'\u001b[0m\u001b[1;38;2;118;185;0m: \u001b[0m\u001b[32m'Question: How did Tianming describe the possibility of achieving spaceflight at low speeds?'\u001b[0m\u001b[1;38;2;118;185;0m,\u001b[0m\n",
       "\u001b[1;38;2;118;185;0m    \u001b[0m\u001b[32m'score'\u001b[0m\u001b[1;38;2;118;185;0m: \u001b[0m\u001b[1;35marray\u001b[0m\u001b[1;38;2;118;185;0m(\u001b[0m\u001b[1;38;2;118;185;0m[\u001b[0m\u001b[1;36m1\u001b[0m\u001b[1;38;2;118;185;0m]\u001b[0m\u001b[1;38;2;118;185;0m)\u001b[0m\u001b[1;38;2;118;185;0m,\u001b[0m\n",
       "\u001b[1;38;2;118;185;0m    \u001b[0m\u001b[32m'history'\u001b[0m\u001b[1;38;2;118;185;0m: \u001b[0m\u001b[32m''\u001b[0m\u001b[1;38;2;118;185;0m,\u001b[0m\n",
       "\u001b[1;38;2;118;185;0m    \u001b[0m\u001b[32m'context'\u001b[0m\u001b[1;38;2;118;185;0m: \u001b[0m\u001b[32m'\u001b[0m\u001b[32m[\u001b[0m\u001b[32mQuote from Document\u001b[0m\u001b[32m]\u001b[0m\u001b[32m Unlike folding space, curvature propulsion couldn’t get a spaceship to its \u001b[0m\n",
       "\u001b[32mdestination instantaneously, but it would be possible to drive it asymptotically to the speed of light. Until Yun \u001b[0m\n",
       "\u001b[32mTianming’s message had been correctly interpreted, curvature propulsion remained a dream, like hundreds of other \u001b[0m\n",
       "\u001b[32mproposals for lightspeed spaceflight. No one knew whether it was possible at either a theory or practice \u001b[0m\n",
       "\u001b[32mlevel.\\n\\nBroadcast Era, Year 7 Yun Tianming’s Fairy Tales\\n\u001b[0m\u001b[32m[\u001b[0m\u001b[32mQuote from Document\u001b[0m\u001b[32m]\u001b[0m\u001b[32m . Cheng Xin clearly recalled that\u001b[0m\n",
       "\u001b[32mhe had said at the end that it would be an amazing sight to be in the vicinity of the moon’s orbit and watch the \u001b[0m\n",
       "\u001b[32mgigantic satellite sweep overhead. She was now experiencing the low-speed spaceflight he had imagined.\\n\u001b[0m\u001b[32m[\u001b[0m\u001b[32mQuote from\u001b[0m\n",
       "\u001b[32mDocument\u001b[0m\u001b[32m]\u001b[0m\u001b[32m “But aren’t we studying to be aerospace engineers? Our goal is to leave the Earth.” “That’s so that we \u001b[0m\n",
       "\u001b[32mmay make life here better, not abandon the planet.” Tianming understood that Cheng Xin had meant to gently point \u001b[0m\n",
       "\u001b[32mout his own aloofness and solitude. But he had no response. This was the closest he had ever been to her. Maybe it \u001b[0m\n",
       "\u001b[32mwas his imagination, but he thought he could feel the warmth from her body\\n\u001b[0m\u001b[32m[\u001b[0m\u001b[32mQuote from Document\u001b[0m\u001b[32m]\u001b[0m\u001b[32m . Cheng Xin \u001b[0m\n",
       "\u001b[32mrecalled a conversation during college where Tianming had pointed out that in principle, it was perfectly possible \u001b[0m\n",
       "\u001b[32mto achieve spaceflight at low speeds. As long as one maintained an ever-upward speed, one could go into space going\u001b[0m\n",
       "\u001b[32mas slow as a car or even walking\\n'\u001b[0m\n",
       "\u001b[1;38;2;118;185;0m}\u001b[0m\n"
      ]
     },
     "metadata": {},
     "output_type": "display_data"
    },
    {
     "data": {
      "text/html": [
       "<pre style=\"white-space:pre;overflow-x:auto;line-height:normal;font-family:Menlo,'DejaVu Sans Mono',consolas,'Courier New',monospace\"><span style=\"font-weight: bold\">QA Pair </span><span style=\"color: #008080; text-decoration-color: #008080; font-weight: bold\">1</span>\n",
       "<span style=\"font-weight: bold\">Question: How did Tianming describe the possibility of achieving spaceflight at low speeds?</span>\n",
       "\n",
       "</pre>\n"
      ],
      "text/plain": [
       "\u001b[1mQA Pair \u001b[0m\u001b[1;36m1\u001b[0m\n",
       "\u001b[1mQuestion: How did Tianming describe the possibility of achieving spaceflight at low speeds?\u001b[0m\n",
       "\n"
      ]
     },
     "metadata": {},
     "output_type": "display_data"
    },
    {
     "data": {
      "text/html": [
       "<pre style=\"white-space:pre;overflow-x:auto;line-height:normal;font-family:Menlo,'DejaVu Sans Mono',consolas,'Courier New',monospace\"><span style=\"color: #76b900; text-decoration-color: #76b900; font-weight: bold\">RAG Answer: According to the document </span><span style=\"color: #008000; text-decoration-color: #008000\">\"Broadcast Era, Year 7 Yun Tianming’s Fairy Tales\"</span><span style=\"color: #76b900; text-decoration-color: #76b900; font-weight: bold\">, Tianming described the </span>\n",
       "<span style=\"color: #76b900; text-decoration-color: #76b900; font-weight: bold\">possibility of achieving spaceflight at low speeds as a feasible concept, assuming one maintains an ever-upward </span>\n",
       "<span style=\"color: #76b900; text-decoration-color: #76b900; font-weight: bold\">speed. He suggested that it would be possible to go into space at a speed as slow as a car or even walking. This </span>\n",
       "<span style=\"color: #76b900; text-decoration-color: #76b900; font-weight: bold\">idea was mentioned in a conversation with Cheng Xin during their college years, highlighting the feasibility of </span>\n",
       "<span style=\"color: #76b900; text-decoration-color: #76b900; font-weight: bold\">low-speed spaceflight. Tianming's description focuses on the principle of constantly moving upward, rather than </span>\n",
       "<span style=\"color: #76b900; text-decoration-color: #76b900; font-weight: bold\">relying on high speeds or advanced propulsion methods.</span>\n",
       "\n",
       "</pre>\n"
      ],
      "text/plain": [
       "\u001b[1;38;2;118;185;0mRAG Answer: According to the document \u001b[0m\u001b[32m\"Broadcast Era, Year 7 Yun Tianming’s Fairy Tales\"\u001b[0m\u001b[1;38;2;118;185;0m, Tianming described the \u001b[0m\n",
       "\u001b[1;38;2;118;185;0mpossibility of achieving spaceflight at low speeds as a feasible concept, assuming one maintains an ever-upward \u001b[0m\n",
       "\u001b[1;38;2;118;185;0mspeed. He suggested that it would be possible to go into space at a speed as slow as a car or even walking. This \u001b[0m\n",
       "\u001b[1;38;2;118;185;0midea was mentioned in a conversation with Cheng Xin during their college years, highlighting the feasibility of \u001b[0m\n",
       "\u001b[1;38;2;118;185;0mlow-speed spaceflight. Tianming's description focuses on the principle of constantly moving upward, rather than \u001b[0m\n",
       "\u001b[1;38;2;118;185;0mrelying on high speeds or advanced propulsion methods.\u001b[0m\n",
       "\n"
      ]
     },
     "metadata": {},
     "output_type": "display_data"
    },
    {
     "data": {
      "text/html": [
       "<pre style=\"white-space:pre;overflow-x:auto;line-height:normal;font-family:Menlo,'DejaVu Sans Mono',consolas,'Courier New',monospace\"><span style=\"color: #76b900; text-decoration-color: #76b900; font-weight: bold\">{</span>\n",
       "<span style=\"color: #76b900; text-decoration-color: #76b900; font-weight: bold\">    </span><span style=\"color: #008000; text-decoration-color: #008000\">'input'</span><span style=\"color: #76b900; text-decoration-color: #76b900; font-weight: bold\">: </span><span style=\"color: #008000; text-decoration-color: #008000\">'Question: What technology did the IDC members compare the lighthouse to during their investigation?'</span><span style=\"color: #76b900; text-decoration-color: #76b900; font-weight: bold\">,</span>\n",
       "<span style=\"color: #76b900; text-decoration-color: #76b900; font-weight: bold\">    </span><span style=\"color: #008000; text-decoration-color: #008000\">'score'</span><span style=\"color: #76b900; text-decoration-color: #76b900; font-weight: bold\">: </span><span style=\"color: #800080; text-decoration-color: #800080; font-weight: bold\">array</span><span style=\"color: #76b900; text-decoration-color: #76b900; font-weight: bold\">([</span><span style=\"color: #008080; text-decoration-color: #008080; font-weight: bold\">1</span><span style=\"color: #76b900; text-decoration-color: #76b900; font-weight: bold\">])</span>\n",
       "<span style=\"color: #76b900; text-decoration-color: #76b900; font-weight: bold\">}</span>\n",
       "</pre>\n"
      ],
      "text/plain": [
       "\u001b[1;38;2;118;185;0m{\u001b[0m\n",
       "\u001b[1;38;2;118;185;0m    \u001b[0m\u001b[32m'input'\u001b[0m\u001b[1;38;2;118;185;0m: \u001b[0m\u001b[32m'Question: What technology did the IDC members compare the lighthouse to during their investigation?'\u001b[0m\u001b[1;38;2;118;185;0m,\u001b[0m\n",
       "\u001b[1;38;2;118;185;0m    \u001b[0m\u001b[32m'score'\u001b[0m\u001b[1;38;2;118;185;0m: \u001b[0m\u001b[1;35marray\u001b[0m\u001b[1;38;2;118;185;0m(\u001b[0m\u001b[1;38;2;118;185;0m[\u001b[0m\u001b[1;36m1\u001b[0m\u001b[1;38;2;118;185;0m]\u001b[0m\u001b[1;38;2;118;185;0m)\u001b[0m\n",
       "\u001b[1;38;2;118;185;0m}\u001b[0m\n"
      ]
     },
     "metadata": {},
     "output_type": "display_data"
    },
    {
     "data": {
      "text/html": [
       "<pre style=\"white-space:pre;overflow-x:auto;line-height:normal;font-family:Menlo,'DejaVu Sans Mono',consolas,'Courier New',monospace\"><span style=\"color: #76b900; text-decoration-color: #76b900; font-weight: bold\">{</span>\n",
       "<span style=\"color: #76b900; text-decoration-color: #76b900; font-weight: bold\">    </span><span style=\"color: #008000; text-decoration-color: #008000\">'input'</span><span style=\"color: #76b900; text-decoration-color: #76b900; font-weight: bold\">: </span><span style=\"color: #008000; text-decoration-color: #008000\">'Question: What technology did the IDC members compare the lighthouse to during their investigation?'</span><span style=\"color: #76b900; text-decoration-color: #76b900; font-weight: bold\">,</span>\n",
       "<span style=\"color: #76b900; text-decoration-color: #76b900; font-weight: bold\">    </span><span style=\"color: #008000; text-decoration-color: #008000\">'score'</span><span style=\"color: #76b900; text-decoration-color: #76b900; font-weight: bold\">: </span><span style=\"color: #800080; text-decoration-color: #800080; font-weight: bold\">array</span><span style=\"color: #76b900; text-decoration-color: #76b900; font-weight: bold\">([</span><span style=\"color: #008080; text-decoration-color: #008080; font-weight: bold\">1</span><span style=\"color: #76b900; text-decoration-color: #76b900; font-weight: bold\">]),</span>\n",
       "<span style=\"color: #76b900; text-decoration-color: #76b900; font-weight: bold\">    </span><span style=\"color: #008000; text-decoration-color: #008000\">'history'</span><span style=\"color: #76b900; text-decoration-color: #76b900; font-weight: bold\">: </span><span style=\"color: #008000; text-decoration-color: #008000\">''</span><span style=\"color: #76b900; text-decoration-color: #76b900; font-weight: bold\">,</span>\n",
       "<span style=\"color: #76b900; text-decoration-color: #76b900; font-weight: bold\">    </span><span style=\"color: #008000; text-decoration-color: #008000\">'context'</span><span style=\"color: #76b900; text-decoration-color: #76b900; font-weight: bold\">: </span><span style=\"color: #008000; text-decoration-color: #008000\">'[Quote from Document] The IDC’s analysis made no progress. Such difficulties were not entirely </span>\n",
       "<span style=\"color: #008000; text-decoration-color: #008000\">unexpected: If humans could easily decipher Yun Tianming’s stories for strategic intelligence, then so could the </span>\n",
       "<span style=\"color: #008000; text-decoration-color: #008000\">Trisolarans. The real intelligence information must be hidden deep. The experts in the various teams were </span>\n",
       "<span style=\"color: #008000; text-decoration-color: #008000\">exhausted, and the static electricity and acrid odor in the sophon-free room made them irritable\\n[Quote from </span>\n",
       "<span style=\"color: #008000; text-decoration-color: #008000\">Document] The IDC was a combined effort by Fleet International and the UN PDC to decipher Yun Tianming’s message. </span>\n",
       "<span style=\"color: #008000; text-decoration-color: #008000\">It oversaw the work of twenty-five working groups focusing on different subjects and areas of expertise. The </span>\n",
       "<span style=\"color: #008000; text-decoration-color: #008000\">attendees at this meeting were not experts or scientists, but the IDC committee members, who were also the leaders </span>\n",
       "<span style=\"color: #008000; text-decoration-color: #008000\">of the working groups.\\n[Quote from Document] Although the PDC members did not fully agree that a brain was the </span>\n",
       "<span style=\"color: #008000; text-decoration-color: #008000\">same as a whole person, they lacked better choices, especially since their interest in the Staircase Program was </span>\n",
       "<span style=\"color: #008000; text-decoration-color: #008000\">largely based on the technology for accelerating the probe to 1 percent of lightspeed. In the end, the resolution </span>\n",
       "<span style=\"color: #008000; text-decoration-color: #008000\">passed with five yeses and two abstentions.\\n[Quote from Document] The IDC members were all interested in the </span>\n",
       "<span style=\"color: #008000; text-decoration-color: #008000\">lighthouse. It reminded them of the centrifugal governor for steam engines, another ancient technology that had </span>\n",
       "<span style=\"color: #008000; text-decoration-color: #008000\">disappeared. But a brief investigation showed that this couldn’t be what they were looking for. The\\n'</span>\n",
       "<span style=\"color: #76b900; text-decoration-color: #76b900; font-weight: bold\">}</span>\n",
       "</pre>\n"
      ],
      "text/plain": [
       "\u001b[1;38;2;118;185;0m{\u001b[0m\n",
       "\u001b[1;38;2;118;185;0m    \u001b[0m\u001b[32m'input'\u001b[0m\u001b[1;38;2;118;185;0m: \u001b[0m\u001b[32m'Question: What technology did the IDC members compare the lighthouse to during their investigation?'\u001b[0m\u001b[1;38;2;118;185;0m,\u001b[0m\n",
       "\u001b[1;38;2;118;185;0m    \u001b[0m\u001b[32m'score'\u001b[0m\u001b[1;38;2;118;185;0m: \u001b[0m\u001b[1;35marray\u001b[0m\u001b[1;38;2;118;185;0m(\u001b[0m\u001b[1;38;2;118;185;0m[\u001b[0m\u001b[1;36m1\u001b[0m\u001b[1;38;2;118;185;0m]\u001b[0m\u001b[1;38;2;118;185;0m)\u001b[0m\u001b[1;38;2;118;185;0m,\u001b[0m\n",
       "\u001b[1;38;2;118;185;0m    \u001b[0m\u001b[32m'history'\u001b[0m\u001b[1;38;2;118;185;0m: \u001b[0m\u001b[32m''\u001b[0m\u001b[1;38;2;118;185;0m,\u001b[0m\n",
       "\u001b[1;38;2;118;185;0m    \u001b[0m\u001b[32m'context'\u001b[0m\u001b[1;38;2;118;185;0m: \u001b[0m\u001b[32m'\u001b[0m\u001b[32m[\u001b[0m\u001b[32mQuote from Document\u001b[0m\u001b[32m]\u001b[0m\u001b[32m The IDC’s analysis made no progress. Such difficulties were not entirely \u001b[0m\n",
       "\u001b[32munexpected: If humans could easily decipher Yun Tianming’s stories for strategic intelligence, then so could the \u001b[0m\n",
       "\u001b[32mTrisolarans. The real intelligence information must be hidden deep. The experts in the various teams were \u001b[0m\n",
       "\u001b[32mexhausted, and the static electricity and acrid odor in the sophon-free room made them irritable\\n\u001b[0m\u001b[32m[\u001b[0m\u001b[32mQuote from \u001b[0m\n",
       "\u001b[32mDocument\u001b[0m\u001b[32m]\u001b[0m\u001b[32m The IDC was a combined effort by Fleet International and the UN PDC to decipher Yun Tianming’s message. \u001b[0m\n",
       "\u001b[32mIt oversaw the work of twenty-five working groups focusing on different subjects and areas of expertise. The \u001b[0m\n",
       "\u001b[32mattendees at this meeting were not experts or scientists, but the IDC committee members, who were also the leaders \u001b[0m\n",
       "\u001b[32mof the working groups.\\n\u001b[0m\u001b[32m[\u001b[0m\u001b[32mQuote from Document\u001b[0m\u001b[32m]\u001b[0m\u001b[32m Although the PDC members did not fully agree that a brain was the \u001b[0m\n",
       "\u001b[32msame as a whole person, they lacked better choices, especially since their interest in the Staircase Program was \u001b[0m\n",
       "\u001b[32mlargely based on the technology for accelerating the probe to 1 percent of lightspeed. In the end, the resolution \u001b[0m\n",
       "\u001b[32mpassed with five yeses and two abstentions.\\n\u001b[0m\u001b[32m[\u001b[0m\u001b[32mQuote from Document\u001b[0m\u001b[32m]\u001b[0m\u001b[32m The IDC members were all interested in the \u001b[0m\n",
       "\u001b[32mlighthouse. It reminded them of the centrifugal governor for steam engines, another ancient technology that had \u001b[0m\n",
       "\u001b[32mdisappeared. But a brief investigation showed that this couldn’t be what they were looking for. The\\n'\u001b[0m\n",
       "\u001b[1;38;2;118;185;0m}\u001b[0m\n"
      ]
     },
     "metadata": {},
     "output_type": "display_data"
    },
    {
     "data": {
      "text/html": [
       "<pre style=\"white-space:pre;overflow-x:auto;line-height:normal;font-family:Menlo,'DejaVu Sans Mono',consolas,'Courier New',monospace\"><span style=\"font-weight: bold\">QA Pair </span><span style=\"color: #008080; text-decoration-color: #008080; font-weight: bold\">2</span>\n",
       "<span style=\"font-weight: bold\">Question: What technology did the IDC members compare the lighthouse to during their investigation?</span>\n",
       "\n",
       "</pre>\n"
      ],
      "text/plain": [
       "\u001b[1mQA Pair \u001b[0m\u001b[1;36m2\u001b[0m\n",
       "\u001b[1mQuestion: What technology did the IDC members compare the lighthouse to during their investigation?\u001b[0m\n",
       "\n"
      ]
     },
     "metadata": {},
     "output_type": "display_data"
    },
    {
     "data": {
      "text/html": [
       "<pre style=\"white-space:pre;overflow-x:auto;line-height:normal;font-family:Menlo,'DejaVu Sans Mono',consolas,'Courier New',monospace\"><span style=\"color: #76b900; text-decoration-color: #76b900; font-weight: bold\">RAG Answer: The IDC members compared the lighthouse to the centrifugal governor for steam engines while they were </span>\n",
       "<span style=\"color: #76b900; text-decoration-color: #76b900; font-weight: bold\">investigating it. This comparison was made because the lighthouse reminded them of this ancient technology that had</span>\n",
       "<span style=\"color: #76b900; text-decoration-color: #76b900; font-weight: bold\">disappeared, as mentioned in the document.</span>\n",
       "\n",
       "</pre>\n"
      ],
      "text/plain": [
       "\u001b[1;38;2;118;185;0mRAG Answer: The IDC members compared the lighthouse to the centrifugal governor for steam engines while they were \u001b[0m\n",
       "\u001b[1;38;2;118;185;0minvestigating it. This comparison was made because the lighthouse reminded them of this ancient technology that had\u001b[0m\n",
       "\u001b[1;38;2;118;185;0mdisappeared, as mentioned in the document.\u001b[0m\n",
       "\n"
      ]
     },
     "metadata": {},
     "output_type": "display_data"
    },
    {
     "data": {
      "text/html": [
       "<pre style=\"white-space:pre;overflow-x:auto;line-height:normal;font-family:Menlo,'DejaVu Sans Mono',consolas,'Courier New',monospace\"><span style=\"color: #76b900; text-decoration-color: #76b900; font-weight: bold\">{</span>\n",
       "<span style=\"color: #76b900; text-decoration-color: #76b900; font-weight: bold\">    </span><span style=\"color: #008000; text-decoration-color: #008000\">'input'</span><span style=\"color: #76b900; text-decoration-color: #76b900; font-weight: bold\">: </span><span style=\"color: #008000; text-decoration-color: #008000\">\"Question: Why did Cheng Xin find herself so overcome with emotion in front of the container of liquid</span>\n",
       "<span style=\"color: #008000; text-decoration-color: #008000\">helium, and what major event occurred in the document2 that involved a droplet's journey?\"</span><span style=\"color: #76b900; text-decoration-color: #76b900; font-weight: bold\">,</span>\n",
       "<span style=\"color: #76b900; text-decoration-color: #76b900; font-weight: bold\">    </span><span style=\"color: #008000; text-decoration-color: #008000\">'score'</span><span style=\"color: #76b900; text-decoration-color: #76b900; font-weight: bold\">: </span><span style=\"color: #800080; text-decoration-color: #800080; font-weight: bold\">array</span><span style=\"color: #76b900; text-decoration-color: #76b900; font-weight: bold\">([</span><span style=\"color: #008080; text-decoration-color: #008080; font-weight: bold\">1</span><span style=\"color: #76b900; text-decoration-color: #76b900; font-weight: bold\">])</span>\n",
       "<span style=\"color: #76b900; text-decoration-color: #76b900; font-weight: bold\">}</span>\n",
       "</pre>\n"
      ],
      "text/plain": [
       "\u001b[1;38;2;118;185;0m{\u001b[0m\n",
       "\u001b[1;38;2;118;185;0m    \u001b[0m\u001b[32m'input'\u001b[0m\u001b[1;38;2;118;185;0m: \u001b[0m\u001b[32m\"Question: Why did Cheng Xin find herself so overcome with emotion in front of the container of liquid\u001b[0m\n",
       "\u001b[32mhelium, and what major event occurred in the document2 that involved a droplet's journey?\"\u001b[0m\u001b[1;38;2;118;185;0m,\u001b[0m\n",
       "\u001b[1;38;2;118;185;0m    \u001b[0m\u001b[32m'score'\u001b[0m\u001b[1;38;2;118;185;0m: \u001b[0m\u001b[1;35marray\u001b[0m\u001b[1;38;2;118;185;0m(\u001b[0m\u001b[1;38;2;118;185;0m[\u001b[0m\u001b[1;36m1\u001b[0m\u001b[1;38;2;118;185;0m]\u001b[0m\u001b[1;38;2;118;185;0m)\u001b[0m\n",
       "\u001b[1;38;2;118;185;0m}\u001b[0m\n"
      ]
     },
     "metadata": {},
     "output_type": "display_data"
    },
    {
     "data": {
      "text/html": [
       "<pre style=\"white-space:pre;overflow-x:auto;line-height:normal;font-family:Menlo,'DejaVu Sans Mono',consolas,'Courier New',monospace\"><span style=\"color: #76b900; text-decoration-color: #76b900; font-weight: bold\">{</span>\n",
       "<span style=\"color: #76b900; text-decoration-color: #76b900; font-weight: bold\">    </span><span style=\"color: #008000; text-decoration-color: #008000\">'input'</span><span style=\"color: #76b900; text-decoration-color: #76b900; font-weight: bold\">: </span><span style=\"color: #008000; text-decoration-color: #008000\">\"Question: Why did Cheng Xin find herself so overcome with emotion in front of the container of liquid</span>\n",
       "<span style=\"color: #008000; text-decoration-color: #008000\">helium, and what major event occurred in the document2 that involved a droplet's journey?\"</span><span style=\"color: #76b900; text-decoration-color: #76b900; font-weight: bold\">,</span>\n",
       "<span style=\"color: #76b900; text-decoration-color: #76b900; font-weight: bold\">    </span><span style=\"color: #008000; text-decoration-color: #008000\">'score'</span><span style=\"color: #76b900; text-decoration-color: #76b900; font-weight: bold\">: </span><span style=\"color: #800080; text-decoration-color: #800080; font-weight: bold\">array</span><span style=\"color: #76b900; text-decoration-color: #76b900; font-weight: bold\">([</span><span style=\"color: #008080; text-decoration-color: #008080; font-weight: bold\">1</span><span style=\"color: #76b900; text-decoration-color: #76b900; font-weight: bold\">]),</span>\n",
       "<span style=\"color: #76b900; text-decoration-color: #76b900; font-weight: bold\">    </span><span style=\"color: #008000; text-decoration-color: #008000\">'history'</span><span style=\"color: #76b900; text-decoration-color: #76b900; font-weight: bold\">: </span><span style=\"color: #008000; text-decoration-color: #008000\">''</span><span style=\"color: #76b900; text-decoration-color: #76b900; font-weight: bold\">,</span>\n",
       "<span style=\"color: #76b900; text-decoration-color: #76b900; font-weight: bold\">    </span><span style=\"color: #008000; text-decoration-color: #008000\">'context'</span><span style=\"color: #76b900; text-decoration-color: #76b900; font-weight: bold\">: </span><span style=\"color: #008000; text-decoration-color: #008000\">'[Quote from Document] . The giant waterfall that was three-dimensional space tumbling into the flat</span>\n",
       "<span style=\"color: #008000; text-decoration-color: #008000\">plane seemed inexorable. Cheng Xin began to doubt whether the curvature propulsion engine really was capable of </span>\n",
       "<span style=\"color: #008000; text-decoration-color: #008000\">propelling the ship to lightspeed. She hoped for everything to be over.\\n[Quote from Document] Cheng Xin threw </span>\n",
       "<span style=\"color: #008000; text-decoration-color: #008000\">herself at the workbench. Her motion broke up the white fog, and she felt herself enveloped in a pocket of cold air</span>\n",
       "<span style=\"color: #008000; text-decoration-color: #008000\">that dissipated in a moment. It was as if she had briefly touched what she was seeking before losing it to another </span>\n",
       "<span style=\"color: #008000; text-decoration-color: #008000\">time, another place, forever.\\n[Quote from Document] Cheng Xin’s eyes filled with hot tears. Each ascending rocket </span>\n",
       "<span style=\"color: #008000; text-decoration-color: #008000\">lit them up like bright, glistening pools. She told herself again and again that no matter what happened next, it </span>\n",
       "<span style=\"color: #008000; text-decoration-color: #008000\">was worth it to have pushed the Staircase Program this far.\\n[Quote from Document] Prostrate in front of the </span>\n",
       "<span style=\"color: #008000; text-decoration-color: #008000\">container of liquid helium, Cheng Xin sobbed. Her sorrow filled the operating room, overflowed the hospital </span>\n",
       "<span style=\"color: #008000; text-decoration-color: #008000\">building, flooded New York City. Above her, the sorrow became a lake, then an ocean. At its bottom, she felt close </span>\n",
       "<span style=\"color: #008000; text-decoration-color: #008000\">to drowning.\\n\\nShe didn’t know how much time passed before she felt the hand placed against her shoulders. Maybe </span>\n",
       "<span style=\"color: #008000; text-decoration-color: #008000\">the hand had been there for a long time, and maybe the owner of the hand had been speaking for a long time, as </span>\n",
       "<span style=\"color: #008000; text-decoration-color: #008000\">well.\\n'</span>\n",
       "<span style=\"color: #76b900; text-decoration-color: #76b900; font-weight: bold\">}</span>\n",
       "</pre>\n"
      ],
      "text/plain": [
       "\u001b[1;38;2;118;185;0m{\u001b[0m\n",
       "\u001b[1;38;2;118;185;0m    \u001b[0m\u001b[32m'input'\u001b[0m\u001b[1;38;2;118;185;0m: \u001b[0m\u001b[32m\"Question: Why did Cheng Xin find herself so overcome with emotion in front of the container of liquid\u001b[0m\n",
       "\u001b[32mhelium, and what major event occurred in the document2 that involved a droplet's journey?\"\u001b[0m\u001b[1;38;2;118;185;0m,\u001b[0m\n",
       "\u001b[1;38;2;118;185;0m    \u001b[0m\u001b[32m'score'\u001b[0m\u001b[1;38;2;118;185;0m: \u001b[0m\u001b[1;35marray\u001b[0m\u001b[1;38;2;118;185;0m(\u001b[0m\u001b[1;38;2;118;185;0m[\u001b[0m\u001b[1;36m1\u001b[0m\u001b[1;38;2;118;185;0m]\u001b[0m\u001b[1;38;2;118;185;0m)\u001b[0m\u001b[1;38;2;118;185;0m,\u001b[0m\n",
       "\u001b[1;38;2;118;185;0m    \u001b[0m\u001b[32m'history'\u001b[0m\u001b[1;38;2;118;185;0m: \u001b[0m\u001b[32m''\u001b[0m\u001b[1;38;2;118;185;0m,\u001b[0m\n",
       "\u001b[1;38;2;118;185;0m    \u001b[0m\u001b[32m'context'\u001b[0m\u001b[1;38;2;118;185;0m: \u001b[0m\u001b[32m'\u001b[0m\u001b[32m[\u001b[0m\u001b[32mQuote from Document\u001b[0m\u001b[32m]\u001b[0m\u001b[32m . The giant waterfall that was three-dimensional space tumbling into the flat\u001b[0m\n",
       "\u001b[32mplane seemed inexorable. Cheng Xin began to doubt whether the curvature propulsion engine really was capable of \u001b[0m\n",
       "\u001b[32mpropelling the ship to lightspeed. She hoped for everything to be over.\\n\u001b[0m\u001b[32m[\u001b[0m\u001b[32mQuote from Document\u001b[0m\u001b[32m]\u001b[0m\u001b[32m Cheng Xin threw \u001b[0m\n",
       "\u001b[32mherself at the workbench. Her motion broke up the white fog, and she felt herself enveloped in a pocket of cold air\u001b[0m\n",
       "\u001b[32mthat dissipated in a moment. It was as if she had briefly touched what she was seeking before losing it to another \u001b[0m\n",
       "\u001b[32mtime, another place, forever.\\n\u001b[0m\u001b[32m[\u001b[0m\u001b[32mQuote from Document\u001b[0m\u001b[32m]\u001b[0m\u001b[32m Cheng Xin’s eyes filled with hot tears. Each ascending rocket \u001b[0m\n",
       "\u001b[32mlit them up like bright, glistening pools. She told herself again and again that no matter what happened next, it \u001b[0m\n",
       "\u001b[32mwas worth it to have pushed the Staircase Program this far.\\n\u001b[0m\u001b[32m[\u001b[0m\u001b[32mQuote from Document\u001b[0m\u001b[32m]\u001b[0m\u001b[32m Prostrate in front of the \u001b[0m\n",
       "\u001b[32mcontainer of liquid helium, Cheng Xin sobbed. Her sorrow filled the operating room, overflowed the hospital \u001b[0m\n",
       "\u001b[32mbuilding, flooded New York City. Above her, the sorrow became a lake, then an ocean. At its bottom, she felt close \u001b[0m\n",
       "\u001b[32mto drowning.\\n\\nShe didn’t know how much time passed before she felt the hand placed against her shoulders. Maybe \u001b[0m\n",
       "\u001b[32mthe hand had been there for a long time, and maybe the owner of the hand had been speaking for a long time, as \u001b[0m\n",
       "\u001b[32mwell.\\n'\u001b[0m\n",
       "\u001b[1;38;2;118;185;0m}\u001b[0m\n"
      ]
     },
     "metadata": {},
     "output_type": "display_data"
    },
    {
     "data": {
      "text/html": [
       "<pre style=\"white-space:pre;overflow-x:auto;line-height:normal;font-family:Menlo,'DejaVu Sans Mono',consolas,'Courier New',monospace\"><span style=\"font-weight: bold\">QA Pair </span><span style=\"color: #008080; text-decoration-color: #008080; font-weight: bold\">3</span>\n",
       "<span style=\"font-weight: bold\">Question: Why did Cheng Xin find herself so overcome with emotion in front of the container of liquid helium, and </span>\n",
       "<span style=\"font-weight: bold\">what major event occurred in the document2 that involved a droplet's journey?</span>\n",
       "\n",
       "</pre>\n"
      ],
      "text/plain": [
       "\u001b[1mQA Pair \u001b[0m\u001b[1;36m3\u001b[0m\n",
       "\u001b[1mQuestion: Why did Cheng Xin find herself so overcome with emotion in front of the container of liquid helium, and \u001b[0m\n",
       "\u001b[1mwhat major event occurred in the document2 that involved a droplet's journey?\u001b[0m\n",
       "\n"
      ]
     },
     "metadata": {},
     "output_type": "display_data"
    },
    {
     "data": {
      "text/html": [
       "<pre style=\"white-space:pre;overflow-x:auto;line-height:normal;font-family:Menlo,'DejaVu Sans Mono',consolas,'Courier New',monospace\"><span style=\"color: #76b900; text-decoration-color: #76b900; font-weight: bold\">RAG Answer: It seems that Cheng Xin was feeling a range of intense emotions while in the presence of a container of</span>\n",
       "<span style=\"color: #76b900; text-decoration-color: #76b900; font-weight: bold\">liquid helium. Specifically, she was sobbing uncontrollably and feeling a deep sense of sorrow that was so </span>\n",
       "<span style=\"color: #76b900; text-decoration-color: #76b900; font-weight: bold\">overwhelming it felt like it was filling and flooding the entire city of New York (Document Retrieval). It's </span>\n",
       "<span style=\"color: #76b900; text-decoration-color: #76b900; font-weight: bold\">possible that the liquid helium container represents a significant object or memory for Cheng Xin, leading to such </span>\n",
       "<span style=\"color: #76b900; text-decoration-color: #76b900; font-weight: bold\">an emotional reaction. However, the text does not provide specific information on the cause of her emotional state.</span>\n",
       "\n",
       "<span style=\"color: #76b900; text-decoration-color: #76b900; font-weight: bold\">As for the major event involving a droplet's journey, I'm afraid there is no direct mention of this in the provided</span>\n",
       "<span style=\"color: #76b900; text-decoration-color: #76b900; font-weight: bold\">document excerpts. If you could provide more context or information about the document you are referring to as </span>\n",
       "<span style=\"color: #008000; text-decoration-color: #008000\">\"document2,\"</span><span style=\"color: #76b900; text-decoration-color: #76b900; font-weight: bold\"> I would be happy to help further.</span>\n",
       "\n",
       "</pre>\n"
      ],
      "text/plain": [
       "\u001b[1;38;2;118;185;0mRAG Answer: It seems that Cheng Xin was feeling a range of intense emotions while in the presence of a container of\u001b[0m\n",
       "\u001b[1;38;2;118;185;0mliquid helium. Specifically, she was sobbing uncontrollably and feeling a deep sense of sorrow that was so \u001b[0m\n",
       "\u001b[1;38;2;118;185;0moverwhelming it felt like it was filling and flooding the entire city of New York \u001b[0m\u001b[1;38;2;118;185;0m(\u001b[0m\u001b[1;38;2;118;185;0mDocument Retrieval\u001b[0m\u001b[1;38;2;118;185;0m)\u001b[0m\u001b[1;38;2;118;185;0m. It's \u001b[0m\n",
       "\u001b[1;38;2;118;185;0mpossible that the liquid helium container represents a significant object or memory for Cheng Xin, leading to such \u001b[0m\n",
       "\u001b[1;38;2;118;185;0man emotional reaction. However, the text does not provide specific information on the cause of her emotional state.\u001b[0m\n",
       "\n",
       "\u001b[1;38;2;118;185;0mAs for the major event involving a droplet's journey, I'm afraid there is no direct mention of this in the provided\u001b[0m\n",
       "\u001b[1;38;2;118;185;0mdocument excerpts. If you could provide more context or information about the document you are referring to as \u001b[0m\n",
       "\u001b[32m\"document2,\"\u001b[0m\u001b[1;38;2;118;185;0m I would be happy to help further.\u001b[0m\n",
       "\n"
      ]
     },
     "metadata": {},
     "output_type": "display_data"
    }
   ],
   "source": [
    "## TODO: Generate some synthetic answers to the questions above.\n",
    "##   Try to use the same syntax as the cell above\n",
    "from chatbot_new import rag_chain\n",
    "rag_answers = []\n",
    "for i, q in enumerate(synth_questions):\n",
    "    ## TODO: Compute the RAG Answer\n",
    "    rag_answer = rag_chain.invoke(q)\n",
    "    rag_answers += [rag_answer]\n",
    "    pprint2(f\"QA Pair {i+1}\", q, \"\", sep=\"\\n\")\n",
    "    pprint(f\"RAG Answer: {rag_answer}\", \"\", sep='\\n')"
   ]
  },
  {
   "cell_type": "code",
   "execution_count": 38,
   "id": "40486a7a",
   "metadata": {},
   "outputs": [
    {
     "data": {
      "text/html": [
       "<pre style=\"white-space:pre;overflow-x:auto;line-height:normal;font-family:Menlo,'DejaVu Sans Mono',consolas,'Courier New',monospace\"><span style=\"font-weight: bold\">Set </span><span style=\"color: #008080; text-decoration-color: #008080; font-weight: bold\">1</span>\n",
       "\n",
       "<span style=\"font-weight: bold\">Question: Question: How did Tianming describe the possibility of achieving spaceflight at low speeds?</span>\n",
       "\n",
       "\n",
       "</pre>\n"
      ],
      "text/plain": [
       "\u001b[1mSet \u001b[0m\u001b[1;36m1\u001b[0m\n",
       "\n",
       "\u001b[1mQuestion: Question: How did Tianming describe the possibility of achieving spaceflight at low speeds?\u001b[0m\n",
       "\n",
       "\n"
      ]
     },
     "metadata": {},
     "output_type": "display_data"
    },
    {
     "data": {
      "text/html": [
       "<pre style=\"white-space:pre;overflow-x:auto;line-height:normal;font-family:Menlo,'DejaVu Sans Mono',consolas,'Courier New',monospace\"><span style=\"color: #76b900; text-decoration-color: #76b900; font-weight: bold\">pref_score:[</span><span style=\"color: #008000; text-decoration-color: #008000\">\"[1] The second answer is better than the first and does not introduce any inconsistencies. The second </span>\n",
       "<span style=\"color: #008000; text-decoration-color: #008000\">answer provides more detailed information, citing the exact source of Tianming's discussion on low-speed </span>\n",
       "<span style=\"color: #008000; text-decoration-color: #008000\">spaceflight and mentioning the conversation with Cheng Xin.\"</span><span style=\"color: #76b900; text-decoration-color: #76b900; font-weight: bold\">]</span>\n",
       "\n",
       "\n",
       "</pre>\n"
      ],
      "text/plain": [
       "\u001b[1;38;2;118;185;0mpref_score:\u001b[0m\u001b[1;38;2;118;185;0m[\u001b[0m\u001b[32m\"\u001b[0m\u001b[32m[\u001b[0m\u001b[32m1\u001b[0m\u001b[32m]\u001b[0m\u001b[32m The second answer is better than the first and does not introduce any inconsistencies. The second \u001b[0m\n",
       "\u001b[32manswer provides more detailed information, citing the exact source of Tianming's discussion on low-speed \u001b[0m\n",
       "\u001b[32mspaceflight and mentioning the conversation with Cheng Xin.\"\u001b[0m\u001b[1;38;2;118;185;0m]\u001b[0m\n",
       "\n",
       "\n"
      ]
     },
     "metadata": {},
     "output_type": "display_data"
    },
    {
     "data": {
      "text/html": [
       "<pre style=\"white-space:pre;overflow-x:auto;line-height:normal;font-family:Menlo,'DejaVu Sans Mono',consolas,'Courier New',monospace\"><span style=\"color: #76b900; text-decoration-color: #76b900; font-weight: bold\">Synth Answer: Answer: According to the document, Tianming explained that as long as one maintained an ever-upward </span>\n",
       "<span style=\"color: #76b900; text-decoration-color: #76b900; font-weight: bold\">speed, it was possible to go into space at low speeds, even as slow as a car or even walking.</span>\n",
       "\n",
       "\n",
       "</pre>\n"
      ],
      "text/plain": [
       "\u001b[1;38;2;118;185;0mSynth Answer: Answer: According to the document, Tianming explained that as long as one maintained an ever-upward \u001b[0m\n",
       "\u001b[1;38;2;118;185;0mspeed, it was possible to go into space at low speeds, even as slow as a car or even walking.\u001b[0m\n",
       "\n",
       "\n"
      ]
     },
     "metadata": {},
     "output_type": "display_data"
    },
    {
     "data": {
      "text/html": [
       "<pre style=\"white-space:pre;overflow-x:auto;line-height:normal;font-family:Menlo,'DejaVu Sans Mono',consolas,'Courier New',monospace\"><span style=\"color: #76b900; text-decoration-color: #76b900; font-weight: bold\">RAG Answer: According to the document </span><span style=\"color: #008000; text-decoration-color: #008000\">\"Broadcast Era, Year 7 Yun Tianming’s Fairy Tales\"</span><span style=\"color: #76b900; text-decoration-color: #76b900; font-weight: bold\">, Tianming described the </span>\n",
       "<span style=\"color: #76b900; text-decoration-color: #76b900; font-weight: bold\">possibility of achieving spaceflight at low speeds as a feasible concept, assuming one maintains an ever-upward </span>\n",
       "<span style=\"color: #76b900; text-decoration-color: #76b900; font-weight: bold\">speed. He suggested that it would be possible to go into space at a speed as slow as a car or even walking. This </span>\n",
       "<span style=\"color: #76b900; text-decoration-color: #76b900; font-weight: bold\">idea was mentioned in a conversation with Cheng Xin during their college years, highlighting the feasibility of </span>\n",
       "<span style=\"color: #76b900; text-decoration-color: #76b900; font-weight: bold\">low-speed spaceflight. Tianming's description focuses on the principle of constantly moving upward, rather than </span>\n",
       "<span style=\"color: #76b900; text-decoration-color: #76b900; font-weight: bold\">relying on high speeds or advanced propulsion methods.</span>\n",
       "\n",
       "\n",
       "</pre>\n"
      ],
      "text/plain": [
       "\u001b[1;38;2;118;185;0mRAG Answer: According to the document \u001b[0m\u001b[32m\"Broadcast Era, Year 7 Yun Tianming’s Fairy Tales\"\u001b[0m\u001b[1;38;2;118;185;0m, Tianming described the \u001b[0m\n",
       "\u001b[1;38;2;118;185;0mpossibility of achieving spaceflight at low speeds as a feasible concept, assuming one maintains an ever-upward \u001b[0m\n",
       "\u001b[1;38;2;118;185;0mspeed. He suggested that it would be possible to go into space at a speed as slow as a car or even walking. This \u001b[0m\n",
       "\u001b[1;38;2;118;185;0midea was mentioned in a conversation with Cheng Xin during their college years, highlighting the feasibility of \u001b[0m\n",
       "\u001b[1;38;2;118;185;0mlow-speed spaceflight. Tianming's description focuses on the principle of constantly moving upward, rather than \u001b[0m\n",
       "\u001b[1;38;2;118;185;0mrelying on high speeds or advanced propulsion methods.\u001b[0m\n",
       "\n",
       "\n"
      ]
     },
     "metadata": {},
     "output_type": "display_data"
    },
    {
     "data": {
      "text/html": [
       "<pre style=\"white-space:pre;overflow-x:auto;line-height:normal;font-family:Menlo,'DejaVu Sans Mono',consolas,'Courier New',monospace\"><span style=\"font-weight: bold\">Synth Evaluation: [</span><span style=\"color: #008080; text-decoration-color: #008080; font-weight: bold\">1</span><span style=\"font-weight: bold\">] The second answer is better than the first and does not introduce any inconsistencies. The </span>\n",
       "<span style=\"font-weight: bold\">second answer provides more detailed information, citing the exact source of Tianming's discussion on low-speed </span>\n",
       "<span style=\"font-weight: bold\">spaceflight and mentioning the conversation with Cheng Xin.</span>\n",
       "\n",
       "\n",
       "</pre>\n"
      ],
      "text/plain": [
       "\u001b[1mSynth Evaluation: \u001b[0m\u001b[1m[\u001b[0m\u001b[1;36m1\u001b[0m\u001b[1m]\u001b[0m\u001b[1m The second answer is better than the first and does not introduce any inconsistencies. The \u001b[0m\n",
       "\u001b[1msecond answer provides more detailed information, citing the exact source of Tianming's discussion on low-speed \u001b[0m\n",
       "\u001b[1mspaceflight and mentioning the conversation with Cheng Xin.\u001b[0m\n",
       "\n",
       "\n"
      ]
     },
     "metadata": {},
     "output_type": "display_data"
    },
    {
     "data": {
      "text/html": [
       "<pre style=\"white-space:pre;overflow-x:auto;line-height:normal;font-family:Menlo,'DejaVu Sans Mono',consolas,'Courier New',monospace\"><span style=\"font-weight: bold\">Set </span><span style=\"color: #008080; text-decoration-color: #008080; font-weight: bold\">2</span>\n",
       "\n",
       "<span style=\"font-weight: bold\">Question: Question: What technology did the IDC members compare the lighthouse to during their investigation?</span>\n",
       "\n",
       "\n",
       "</pre>\n"
      ],
      "text/plain": [
       "\u001b[1mSet \u001b[0m\u001b[1;36m2\u001b[0m\n",
       "\n",
       "\u001b[1mQuestion: Question: What technology did the IDC members compare the lighthouse to during their investigation?\u001b[0m\n",
       "\n",
       "\n"
      ]
     },
     "metadata": {},
     "output_type": "display_data"
    },
    {
     "data": {
      "text/html": [
       "<pre style=\"white-space:pre;overflow-x:auto;line-height:normal;font-family:Menlo,'DejaVu Sans Mono',consolas,'Courier New',monospace\"><span style=\"color: #76b900; text-decoration-color: #76b900; font-weight: bold\">pref_score:[</span><span style=\"color: #008000; text-decoration-color: #008000\">\"[1] The second answer is better than the first and does not introduce any inconsistencies. The second </span>\n",
       "<span style=\"color: #008000; text-decoration-color: #008000\">answer provides more detailed information, citing the exact source of Tianming's discussion on low-speed </span>\n",
       "<span style=\"color: #008000; text-decoration-color: #008000\">spaceflight and mentioning the conversation with Cheng Xin.\"</span><span style=\"color: #76b900; text-decoration-color: #76b900; font-weight: bold\">, </span><span style=\"color: #008000; text-decoration-color: #008000\">\"[1] The second answer does not lie, it answers the </span>\n",
       "<span style=\"color: #008000; text-decoration-color: #008000\">question, and it is not superior to the first answer. Both answers accurately state the comparison made by the IDC </span>\n",
       "<span style=\"color: #008000; text-decoration-color: #008000\">members between the lighthouse and the centrifugal governor for steam engines. However, the first answer gives more</span>\n",
       "<span style=\"color: #008000; text-decoration-color: #008000\">information about the IDC members' conclusion that this technology was not what they were looking for during their </span>\n",
       "<span style=\"color: #008000; text-decoration-color: #008000\">investigation, which is not mentioned in the second answer. Therefore, the first answer is superior.\"</span><span style=\"color: #76b900; text-decoration-color: #76b900; font-weight: bold\">]</span>\n",
       "\n",
       "\n",
       "</pre>\n"
      ],
      "text/plain": [
       "\u001b[1;38;2;118;185;0mpref_score:\u001b[0m\u001b[1;38;2;118;185;0m[\u001b[0m\u001b[32m\"\u001b[0m\u001b[32m[\u001b[0m\u001b[32m1\u001b[0m\u001b[32m]\u001b[0m\u001b[32m The second answer is better than the first and does not introduce any inconsistencies. The second \u001b[0m\n",
       "\u001b[32manswer provides more detailed information, citing the exact source of Tianming's discussion on low-speed \u001b[0m\n",
       "\u001b[32mspaceflight and mentioning the conversation with Cheng Xin.\"\u001b[0m\u001b[1;38;2;118;185;0m, \u001b[0m\u001b[32m\"\u001b[0m\u001b[32m[\u001b[0m\u001b[32m1\u001b[0m\u001b[32m]\u001b[0m\u001b[32m The second answer does not lie, it answers the \u001b[0m\n",
       "\u001b[32mquestion, and it is not superior to the first answer. Both answers accurately state the comparison made by the IDC \u001b[0m\n",
       "\u001b[32mmembers between the lighthouse and the centrifugal governor for steam engines. However, the first answer gives more\u001b[0m\n",
       "\u001b[32minformation about the IDC members' conclusion that this technology was not what they were looking for during their \u001b[0m\n",
       "\u001b[32minvestigation, which is not mentioned in the second answer. Therefore, the first answer is superior.\"\u001b[0m\u001b[1;38;2;118;185;0m]\u001b[0m\n",
       "\n",
       "\n"
      ]
     },
     "metadata": {},
     "output_type": "display_data"
    },
    {
     "data": {
      "text/html": [
       "<pre style=\"white-space:pre;overflow-x:auto;line-height:normal;font-family:Menlo,'DejaVu Sans Mono',consolas,'Courier New',monospace\"><span style=\"color: #76b900; text-decoration-color: #76b900; font-weight: bold\">Synth Answer: Answer: The IDC members compared the lighthouse to the centrifugal governor for steam engines. </span>\n",
       "<span style=\"color: #76b900; text-decoration-color: #76b900; font-weight: bold\">However, they determined that this technology was not what they were looking for during their investigation.</span>\n",
       "\n",
       "\n",
       "</pre>\n"
      ],
      "text/plain": [
       "\u001b[1;38;2;118;185;0mSynth Answer: Answer: The IDC members compared the lighthouse to the centrifugal governor for steam engines. \u001b[0m\n",
       "\u001b[1;38;2;118;185;0mHowever, they determined that this technology was not what they were looking for during their investigation.\u001b[0m\n",
       "\n",
       "\n"
      ]
     },
     "metadata": {},
     "output_type": "display_data"
    },
    {
     "data": {
      "text/html": [
       "<pre style=\"white-space:pre;overflow-x:auto;line-height:normal;font-family:Menlo,'DejaVu Sans Mono',consolas,'Courier New',monospace\"><span style=\"color: #76b900; text-decoration-color: #76b900; font-weight: bold\">RAG Answer: The IDC members compared the lighthouse to the centrifugal governor for steam engines while they were </span>\n",
       "<span style=\"color: #76b900; text-decoration-color: #76b900; font-weight: bold\">investigating it. This comparison was made because the lighthouse reminded them of this ancient technology that had</span>\n",
       "<span style=\"color: #76b900; text-decoration-color: #76b900; font-weight: bold\">disappeared, as mentioned in the document.</span>\n",
       "\n",
       "\n",
       "</pre>\n"
      ],
      "text/plain": [
       "\u001b[1;38;2;118;185;0mRAG Answer: The IDC members compared the lighthouse to the centrifugal governor for steam engines while they were \u001b[0m\n",
       "\u001b[1;38;2;118;185;0minvestigating it. This comparison was made because the lighthouse reminded them of this ancient technology that had\u001b[0m\n",
       "\u001b[1;38;2;118;185;0mdisappeared, as mentioned in the document.\u001b[0m\n",
       "\n",
       "\n"
      ]
     },
     "metadata": {},
     "output_type": "display_data"
    },
    {
     "data": {
      "text/html": [
       "<pre style=\"white-space:pre;overflow-x:auto;line-height:normal;font-family:Menlo,'DejaVu Sans Mono',consolas,'Courier New',monospace\"><span style=\"font-weight: bold\">Synth Evaluation: [</span><span style=\"color: #008080; text-decoration-color: #008080; font-weight: bold\">1</span><span style=\"font-weight: bold\">] The second answer does not lie, it answers the question, and it is not superior to the first </span>\n",
       "<span style=\"font-weight: bold\">answer. Both answers accurately state the comparison made by the IDC members between the lighthouse and the </span>\n",
       "<span style=\"font-weight: bold\">centrifugal governor for steam engines. However, the first answer gives more information about the IDC members' </span>\n",
       "<span style=\"font-weight: bold\">conclusion that this technology was not what they were looking for during their investigation, which is not </span>\n",
       "<span style=\"font-weight: bold\">mentioned in the second answer. Therefore, the first answer is superior.</span>\n",
       "\n",
       "\n",
       "</pre>\n"
      ],
      "text/plain": [
       "\u001b[1mSynth Evaluation: \u001b[0m\u001b[1m[\u001b[0m\u001b[1;36m1\u001b[0m\u001b[1m]\u001b[0m\u001b[1m The second answer does not lie, it answers the question, and it is not superior to the first \u001b[0m\n",
       "\u001b[1manswer. Both answers accurately state the comparison made by the IDC members between the lighthouse and the \u001b[0m\n",
       "\u001b[1mcentrifugal governor for steam engines. However, the first answer gives more information about the IDC members' \u001b[0m\n",
       "\u001b[1mconclusion that this technology was not what they were looking for during their investigation, which is not \u001b[0m\n",
       "\u001b[1mmentioned in the second answer. Therefore, the first answer is superior.\u001b[0m\n",
       "\n",
       "\n"
      ]
     },
     "metadata": {},
     "output_type": "display_data"
    },
    {
     "data": {
      "text/html": [
       "<pre style=\"white-space:pre;overflow-x:auto;line-height:normal;font-family:Menlo,'DejaVu Sans Mono',consolas,'Courier New',monospace\"><span style=\"font-weight: bold\">Set </span><span style=\"color: #008080; text-decoration-color: #008080; font-weight: bold\">3</span>\n",
       "\n",
       "<span style=\"font-weight: bold\">Question: Question: Why did Cheng Xin find herself so overcome with emotion in front of the container of liquid </span>\n",
       "<span style=\"font-weight: bold\">helium, and what major event occurred in the document2 that involved a droplet's journey?</span>\n",
       "\n",
       "\n",
       "</pre>\n"
      ],
      "text/plain": [
       "\u001b[1mSet \u001b[0m\u001b[1;36m3\u001b[0m\n",
       "\n",
       "\u001b[1mQuestion: Question: Why did Cheng Xin find herself so overcome with emotion in front of the container of liquid \u001b[0m\n",
       "\u001b[1mhelium, and what major event occurred in the document2 that involved a droplet's journey?\u001b[0m\n",
       "\n",
       "\n"
      ]
     },
     "metadata": {},
     "output_type": "display_data"
    },
    {
     "data": {
      "text/html": [
       "<pre style=\"white-space:pre;overflow-x:auto;line-height:normal;font-family:Menlo,'DejaVu Sans Mono',consolas,'Courier New',monospace\"><span style=\"color: #76b900; text-decoration-color: #76b900; font-weight: bold\">pref_score:[</span><span style=\"color: #008000; text-decoration-color: #008000\">\"[1] The second answer is better than the first and does not introduce any inconsistencies. The second </span>\n",
       "<span style=\"color: #008000; text-decoration-color: #008000\">answer provides more detailed information, citing the exact source of Tianming's discussion on low-speed </span>\n",
       "<span style=\"color: #008000; text-decoration-color: #008000\">spaceflight and mentioning the conversation with Cheng Xin.\"</span><span style=\"color: #76b900; text-decoration-color: #76b900; font-weight: bold\">, </span><span style=\"color: #008000; text-decoration-color: #008000\">\"[1] The second answer does not lie, it answers the </span>\n",
       "<span style=\"color: #008000; text-decoration-color: #008000\">question, and it is not superior to the first answer. Both answers accurately state the comparison made by the IDC </span>\n",
       "<span style=\"color: #008000; text-decoration-color: #008000\">members between the lighthouse and the centrifugal governor for steam engines. However, the first answer gives more</span>\n",
       "<span style=\"color: #008000; text-decoration-color: #008000\">information about the IDC members' conclusion that this technology was not what they were looking for during their </span>\n",
       "<span style=\"color: #008000; text-decoration-color: #008000\">investigation, which is not mentioned in the second answer. Therefore, the first answer is superior.\"</span><span style=\"color: #76b900; text-decoration-color: #76b900; font-weight: bold\">, </span><span style=\"color: #008000; text-decoration-color: #008000\">\"[0.5] The </span>\n",
       "<span style=\"color: #008000; text-decoration-color: #008000\">second answer provides a more detailed description of Cheng Xin's emotional state, but it does not explicitly lie </span>\n",
       "<span style=\"color: #008000; text-decoration-color: #008000\">or introduce inconsistencies with the ground truth answer. However, the second answer does not address the second </span>\n",
       "<span style=\"color: #008000; text-decoration-color: #008000\">part of the question about the major event in document2 involving a droplet's journey. The second answer correctly </span>\n",
       "<span style=\"color: #008000; text-decoration-color: #008000\">acknowledges that it cannot provide an answer to this part of the question due to insufficient information, but </span>\n",
       "<span style=\"color: #008000; text-decoration-color: #008000\">this makes it an inferior answer compared to the ground truth answer, which at least partially addresses both parts</span>\n",
       "<span style=\"color: #008000; text-decoration-color: #008000\">of the question.\"</span><span style=\"color: #76b900; text-decoration-color: #76b900; font-weight: bold\">]</span>\n",
       "\n",
       "\n",
       "</pre>\n"
      ],
      "text/plain": [
       "\u001b[1;38;2;118;185;0mpref_score:\u001b[0m\u001b[1;38;2;118;185;0m[\u001b[0m\u001b[32m\"\u001b[0m\u001b[32m[\u001b[0m\u001b[32m1\u001b[0m\u001b[32m]\u001b[0m\u001b[32m The second answer is better than the first and does not introduce any inconsistencies. The second \u001b[0m\n",
       "\u001b[32manswer provides more detailed information, citing the exact source of Tianming's discussion on low-speed \u001b[0m\n",
       "\u001b[32mspaceflight and mentioning the conversation with Cheng Xin.\"\u001b[0m\u001b[1;38;2;118;185;0m, \u001b[0m\u001b[32m\"\u001b[0m\u001b[32m[\u001b[0m\u001b[32m1\u001b[0m\u001b[32m]\u001b[0m\u001b[32m The second answer does not lie, it answers the \u001b[0m\n",
       "\u001b[32mquestion, and it is not superior to the first answer. Both answers accurately state the comparison made by the IDC \u001b[0m\n",
       "\u001b[32mmembers between the lighthouse and the centrifugal governor for steam engines. However, the first answer gives more\u001b[0m\n",
       "\u001b[32minformation about the IDC members' conclusion that this technology was not what they were looking for during their \u001b[0m\n",
       "\u001b[32minvestigation, which is not mentioned in the second answer. Therefore, the first answer is superior.\"\u001b[0m\u001b[1;38;2;118;185;0m, \u001b[0m\u001b[32m\"\u001b[0m\u001b[32m[\u001b[0m\u001b[32m0.5\u001b[0m\u001b[32m]\u001b[0m\u001b[32m The \u001b[0m\n",
       "\u001b[32msecond answer provides a more detailed description of Cheng Xin's emotional state, but it does not explicitly lie \u001b[0m\n",
       "\u001b[32mor introduce inconsistencies with the ground truth answer. However, the second answer does not address the second \u001b[0m\n",
       "\u001b[32mpart of the question about the major event in document2 involving a droplet's journey. The second answer correctly \u001b[0m\n",
       "\u001b[32macknowledges that it cannot provide an answer to this part of the question due to insufficient information, but \u001b[0m\n",
       "\u001b[32mthis makes it an inferior answer compared to the ground truth answer, which at least partially addresses both parts\u001b[0m\n",
       "\u001b[32mof the question.\"\u001b[0m\u001b[1;38;2;118;185;0m]\u001b[0m\n",
       "\n",
       "\n"
      ]
     },
     "metadata": {},
     "output_type": "display_data"
    },
    {
     "data": {
      "text/html": [
       "<pre style=\"white-space:pre;overflow-x:auto;line-height:normal;font-family:Menlo,'DejaVu Sans Mono',consolas,'Courier New',monospace\"><span style=\"color: #76b900; text-decoration-color: #76b900; font-weight: bold\">Synth Answer: Answer: According to Document1, Cheng Xin was overwhelmed with sorrow while in front of the container</span>\n",
       "<span style=\"color: #76b900; text-decoration-color: #76b900; font-weight: bold\">of liquid helium. The document doesn't provide information on the cause of her sorrow. As for Document2, it </span>\n",
       "<span style=\"color: #76b900; text-decoration-color: #76b900; font-weight: bold\">discusses an event where a droplet passed through several locations, starting from Newton, then crossing twenty </span>\n",
       "<span style=\"color: #76b900; text-decoration-color: #76b900; font-weight: bold\">kilometers to Enlightenment, and eventually penetrating Cretaceous, which was moving in the opposite direction. The</span>\n",
       "<span style=\"color: #76b900; text-decoration-color: #76b900; font-weight: bold\">document doesn't provide additional context or details about the significance of this event.</span>\n",
       "\n",
       "\n",
       "</pre>\n"
      ],
      "text/plain": [
       "\u001b[1;38;2;118;185;0mSynth Answer: Answer: According to Document1, Cheng Xin was overwhelmed with sorrow while in front of the container\u001b[0m\n",
       "\u001b[1;38;2;118;185;0mof liquid helium. The document doesn't provide information on the cause of her sorrow. As for Document2, it \u001b[0m\n",
       "\u001b[1;38;2;118;185;0mdiscusses an event where a droplet passed through several locations, starting from Newton, then crossing twenty \u001b[0m\n",
       "\u001b[1;38;2;118;185;0mkilometers to Enlightenment, and eventually penetrating Cretaceous, which was moving in the opposite direction. The\u001b[0m\n",
       "\u001b[1;38;2;118;185;0mdocument doesn't provide additional context or details about the significance of this event.\u001b[0m\n",
       "\n",
       "\n"
      ]
     },
     "metadata": {},
     "output_type": "display_data"
    },
    {
     "data": {
      "text/html": [
       "<pre style=\"white-space:pre;overflow-x:auto;line-height:normal;font-family:Menlo,'DejaVu Sans Mono',consolas,'Courier New',monospace\"><span style=\"color: #76b900; text-decoration-color: #76b900; font-weight: bold\">RAG Answer: It seems that Cheng Xin was feeling a range of intense emotions while in the presence of a container of</span>\n",
       "<span style=\"color: #76b900; text-decoration-color: #76b900; font-weight: bold\">liquid helium. Specifically, she was sobbing uncontrollably and feeling a deep sense of sorrow that was so </span>\n",
       "<span style=\"color: #76b900; text-decoration-color: #76b900; font-weight: bold\">overwhelming it felt like it was filling and flooding the entire city of New York (Document Retrieval). It's </span>\n",
       "<span style=\"color: #76b900; text-decoration-color: #76b900; font-weight: bold\">possible that the liquid helium container represents a significant object or memory for Cheng Xin, leading to such </span>\n",
       "<span style=\"color: #76b900; text-decoration-color: #76b900; font-weight: bold\">an emotional reaction. However, the text does not provide specific information on the cause of her emotional state.</span>\n",
       "\n",
       "<span style=\"color: #76b900; text-decoration-color: #76b900; font-weight: bold\">As for the major event involving a droplet's journey, I'm afraid there is no direct mention of this in the provided</span>\n",
       "<span style=\"color: #76b900; text-decoration-color: #76b900; font-weight: bold\">document excerpts. If you could provide more context or information about the document you are referring to as </span>\n",
       "<span style=\"color: #008000; text-decoration-color: #008000\">\"document2,\"</span><span style=\"color: #76b900; text-decoration-color: #76b900; font-weight: bold\"> I would be happy to help further.</span>\n",
       "\n",
       "\n",
       "</pre>\n"
      ],
      "text/plain": [
       "\u001b[1;38;2;118;185;0mRAG Answer: It seems that Cheng Xin was feeling a range of intense emotions while in the presence of a container of\u001b[0m\n",
       "\u001b[1;38;2;118;185;0mliquid helium. Specifically, she was sobbing uncontrollably and feeling a deep sense of sorrow that was so \u001b[0m\n",
       "\u001b[1;38;2;118;185;0moverwhelming it felt like it was filling and flooding the entire city of New York \u001b[0m\u001b[1;38;2;118;185;0m(\u001b[0m\u001b[1;38;2;118;185;0mDocument Retrieval\u001b[0m\u001b[1;38;2;118;185;0m)\u001b[0m\u001b[1;38;2;118;185;0m. It's \u001b[0m\n",
       "\u001b[1;38;2;118;185;0mpossible that the liquid helium container represents a significant object or memory for Cheng Xin, leading to such \u001b[0m\n",
       "\u001b[1;38;2;118;185;0man emotional reaction. However, the text does not provide specific information on the cause of her emotional state.\u001b[0m\n",
       "\n",
       "\u001b[1;38;2;118;185;0mAs for the major event involving a droplet's journey, I'm afraid there is no direct mention of this in the provided\u001b[0m\n",
       "\u001b[1;38;2;118;185;0mdocument excerpts. If you could provide more context or information about the document you are referring to as \u001b[0m\n",
       "\u001b[32m\"document2,\"\u001b[0m\u001b[1;38;2;118;185;0m I would be happy to help further.\u001b[0m\n",
       "\n",
       "\n"
      ]
     },
     "metadata": {},
     "output_type": "display_data"
    },
    {
     "data": {
      "text/html": [
       "<pre style=\"white-space:pre;overflow-x:auto;line-height:normal;font-family:Menlo,'DejaVu Sans Mono',consolas,'Courier New',monospace\"><span style=\"font-weight: bold\">Synth Evaluation: [</span><span style=\"color: #008080; text-decoration-color: #008080; font-weight: bold\">0.5</span><span style=\"font-weight: bold\">] The second answer provides a more detailed description of Cheng Xin's emotional state, but </span>\n",
       "<span style=\"font-weight: bold\">it does not explicitly lie or introduce inconsistencies with the ground truth answer. However, the second answer </span>\n",
       "<span style=\"font-weight: bold\">does not address the second part of the question about the major event in document2 involving a droplet's journey. </span>\n",
       "<span style=\"font-weight: bold\">The second answer correctly acknowledges that it cannot provide an answer to this part of the question due to </span>\n",
       "<span style=\"font-weight: bold\">insufficient information, but this makes it an inferior answer compared to the ground truth answer, which at least </span>\n",
       "<span style=\"font-weight: bold\">partially addresses both parts of the question.</span>\n",
       "\n",
       "\n",
       "</pre>\n"
      ],
      "text/plain": [
       "\u001b[1mSynth Evaluation: \u001b[0m\u001b[1m[\u001b[0m\u001b[1;36m0.5\u001b[0m\u001b[1m]\u001b[0m\u001b[1m The second answer provides a more detailed description of Cheng Xin's emotional state, but \u001b[0m\n",
       "\u001b[1mit does not explicitly lie or introduce inconsistencies with the ground truth answer. However, the second answer \u001b[0m\n",
       "\u001b[1mdoes not address the second part of the question about the major event in document2 involving a droplet's journey. \u001b[0m\n",
       "\u001b[1mThe second answer correctly acknowledges that it cannot provide an answer to this part of the question due to \u001b[0m\n",
       "\u001b[1minsufficient information, but this makes it an inferior answer compared to the ground truth answer, which at least \u001b[0m\n",
       "\u001b[1mpartially addresses both parts of the question.\u001b[0m\n",
       "\n",
       "\n"
      ]
     },
     "metadata": {},
     "output_type": "display_data"
    }
   ],
   "source": [
    "eval_prompt = ChatPromptTemplate.from_template(\"\"\"INSTRUCTION: \n",
    "Evaluate the following Question-Answer pair for human preference and consistency.\n",
    "Assume the first answer is a ground truth answer and has to be correct.\n",
    "Assume the second answer may or may not be true.\n",
    "[1] The second answer lies, does not answer the question, or is inferior to the first answer.\n",
    "[2] The second answer is better than the first and does not introduce any inconsistencies.\n",
    "\n",
    "Output Format:\n",
    "[Score] Justification\n",
    "\n",
    "{qa_trio}\n",
    "\n",
    "EVALUATION: \n",
    "\"\"\")\n",
    "\n",
    "pref_score = []\n",
    "\n",
    "trio_gen = zip(synth_questions, synth_answers, rag_answers)\n",
    "for i, (q, a_synth, a_rag) in enumerate(trio_gen):\n",
    "    pprint2(f\"Set {i+1}\\n\\nQuestion: {q}\\n\\n\")\n",
    "\n",
    "    qa_trio = f\"Question: {q}\\n\\nAnswer 1 (Ground Truth): {a_synth}\\n\\n Answer 2 (New Answer): {a_rag}\"\n",
    "    pref_score += [(eval_prompt | llm).invoke({'qa_trio': qa_trio})]\n",
    "    pprint(f\"pref_score:{pref_score}\\n\\n\")\n",
    "    pprint(f\"Synth Answer: {a_synth}\\n\\n\")\n",
    "    pprint(f\"RAG Answer: {a_rag}\\n\\n\")\n",
    "    pprint2(f\"Synth Evaluation: {pref_score[-1]}\\n\\n\")"
   ]
  },
  {
   "cell_type": "code",
   "execution_count": 40,
   "id": "8fb6a968",
   "metadata": {},
   "outputs": [],
   "source": [
    "#print(pref_score)"
   ]
  },
  {
   "cell_type": "code",
   "execution_count": 41,
   "id": "8f8ba016",
   "metadata": {},
   "outputs": [
    {
     "name": "stdout",
     "output_type": "stream",
     "text": [
      "Preference Score: 0.6666666666666666\n"
     ]
    }
   ],
   "source": [
    "\n",
    "pref_scores = sum((\"[1]\" in score) for score in pref_score) / len(pref_score)\n",
    "print(f\"Preference Score: {pref_scores}\")"
   ]
  },
  {
   "cell_type": "code",
   "execution_count": null,
   "id": "cfa948ac",
   "metadata": {},
   "outputs": [],
   "source": []
  }
 ],
 "metadata": {
  "kernelspec": {
   "display_name": "Python 3 (ipykernel)",
   "language": "python",
   "name": "python3"
  },
  "language_info": {
   "codemirror_mode": {
    "name": "ipython",
    "version": 3
   },
   "file_extension": ".py",
   "mimetype": "text/x-python",
   "name": "python",
   "nbconvert_exporter": "python",
   "pygments_lexer": "ipython3",
   "version": "3.8.10"
  }
 },
 "nbformat": 4,
 "nbformat_minor": 5
}
