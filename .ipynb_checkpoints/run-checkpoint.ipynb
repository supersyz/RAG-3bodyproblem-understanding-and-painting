{
 "cells": [
  {
   "cell_type": "code",
   "execution_count": null,
   "id": "6105bf21-bd2c-4ece-8c25-4f5178fbf902",
   "metadata": {},
   "outputs": [
    {
     "data": {
      "text/html": [
       "<pre style=\"white-space:pre;overflow-x:auto;line-height:normal;font-family:Menlo,'DejaVu Sans Mono',consolas,'Courier New',monospace\"><span style=\"color: #76b900; text-decoration-color: #76b900; font-weight: bold\">Constructed aggregate docstore with </span><span style=\"color: #008080; text-decoration-color: #008080; font-weight: bold\">7573</span><span style=\"color: #76b900; text-decoration-color: #76b900; font-weight: bold\"> chunks</span>\n",
       "</pre>\n"
      ],
      "text/plain": [
       "\u001b[1;38;2;118;185;0mConstructed aggregate docstore with \u001b[0m\u001b[1;36m7573\u001b[0m\u001b[1;38;2;118;185;0m chunks\u001b[0m\n"
      ]
     },
     "metadata": {},
     "output_type": "display_data"
    },
    {
     "data": {
      "text/html": [
       "<pre style=\"white-space:pre;overflow-x:auto;line-height:normal;font-family:Menlo,'DejaVu Sans Mono',consolas,'Courier New',monospace\"><span style=\"color: #76b900; text-decoration-color: #76b900; font-weight: bold\">Sample Chunk:</span>\n",
       "</pre>\n"
      ],
      "text/plain": [
       "\u001b[1;38;2;118;185;0mSample Chunk:\u001b[0m\n"
      ]
     },
     "metadata": {},
     "output_type": "display_data"
    },
    {
     "name": "stdout",
     "output_type": "stream",
     "text": [
      "\n",
      "\n",
      "Page Body: He now understood that the Wallfacers had a mission far weirder than any in history, its logic cold and twisted, yet unyielding as the chains that bound Prometheus. It was an unliftable curse impossible for the Wallfacers to break under their own strength. No matter how he struggled, the totality of everything would be greeted with the Wallfacer smile and imbued with the significance of the Wallfacer Project:\n",
      "\n",
      "How are we supposed to know whether or not you are working?\n",
      "Running on local URL:  http://0.0.0.0:5000\n"
     ]
    },
    {
     "data": {
      "text/html": [
       "<pre style=\"white-space:pre;overflow-x:auto;line-height:normal;font-family:Menlo,'DejaVu Sans Mono',consolas,'Courier New',monospace\"><span style=\"color: #76b900; text-decoration-color: #76b900; font-weight: bold\">{</span>\n",
       "<span style=\"color: #76b900; text-decoration-color: #76b900; font-weight: bold\">    </span><span style=\"color: #008000; text-decoration-color: #008000\">'input'</span><span style=\"color: #76b900; text-decoration-color: #76b900; font-weight: bold\">: </span><span style=\"color: #008000; text-decoration-color: #008000\">'Can you share a description of the appearance and demeanor of Ye Wenjie, one of the main character in</span>\n",
       "<span style=\"color: #008000; text-decoration-color: #008000\">the book?'</span><span style=\"color: #76b900; text-decoration-color: #76b900; font-weight: bold\">,</span>\n",
       "<span style=\"color: #76b900; text-decoration-color: #76b900; font-weight: bold\">    </span><span style=\"color: #008000; text-decoration-color: #008000\">'score'</span><span style=\"color: #76b900; text-decoration-color: #76b900; font-weight: bold\">: </span><span style=\"color: #800080; text-decoration-color: #800080; font-weight: bold\">array</span><span style=\"color: #76b900; text-decoration-color: #76b900; font-weight: bold\">([</span><span style=\"color: #008080; text-decoration-color: #008080; font-weight: bold\">1</span><span style=\"color: #76b900; text-decoration-color: #76b900; font-weight: bold\">], </span><span style=\"color: #808000; text-decoration-color: #808000; font-weight: bold\">dtype</span><span style=\"color: #76b900; text-decoration-color: #76b900; font-weight: bold\">=</span><span style=\"color: #800080; text-decoration-color: #800080; font-weight: bold\">int32</span><span style=\"color: #76b900; text-decoration-color: #76b900; font-weight: bold\">)</span>\n",
       "<span style=\"color: #76b900; text-decoration-color: #76b900; font-weight: bold\">}</span>\n",
       "</pre>\n"
      ],
      "text/plain": [
       "\u001b[1;38;2;118;185;0m{\u001b[0m\n",
       "\u001b[1;38;2;118;185;0m    \u001b[0m\u001b[32m'input'\u001b[0m\u001b[1;38;2;118;185;0m: \u001b[0m\u001b[32m'Can you share a description of the appearance and demeanor of Ye Wenjie, one of the main character in\u001b[0m\n",
       "\u001b[32mthe book?'\u001b[0m\u001b[1;38;2;118;185;0m,\u001b[0m\n",
       "\u001b[1;38;2;118;185;0m    \u001b[0m\u001b[32m'score'\u001b[0m\u001b[1;38;2;118;185;0m: \u001b[0m\u001b[1;35marray\u001b[0m\u001b[1;38;2;118;185;0m(\u001b[0m\u001b[1;38;2;118;185;0m[\u001b[0m\u001b[1;36m1\u001b[0m\u001b[1;38;2;118;185;0m]\u001b[0m\u001b[1;38;2;118;185;0m, \u001b[0m\u001b[1;33mdtype\u001b[0m\u001b[1;38;2;118;185;0m=\u001b[0m\u001b[1;35mint32\u001b[0m\u001b[1;38;2;118;185;0m)\u001b[0m\n",
       "\u001b[1;38;2;118;185;0m}\u001b[0m\n"
      ]
     },
     "metadata": {},
     "output_type": "display_data"
    },
    {
     "data": {
      "text/html": [
       "<pre style=\"white-space:pre;overflow-x:auto;line-height:normal;font-family:Menlo,'DejaVu Sans Mono',consolas,'Courier New',monospace\"><span style=\"color: #76b900; text-decoration-color: #76b900; font-weight: bold\">{</span>\n",
       "<span style=\"color: #76b900; text-decoration-color: #76b900; font-weight: bold\">    </span><span style=\"color: #008000; text-decoration-color: #008000\">'input'</span><span style=\"color: #76b900; text-decoration-color: #76b900; font-weight: bold\">: </span><span style=\"color: #008000; text-decoration-color: #008000\">'Can you share a description of the appearance and demeanor of Ye Wenjie, one of the main character in</span>\n",
       "<span style=\"color: #008000; text-decoration-color: #008000\">the book?'</span><span style=\"color: #76b900; text-decoration-color: #76b900; font-weight: bold\">,</span>\n",
       "<span style=\"color: #76b900; text-decoration-color: #76b900; font-weight: bold\">    </span><span style=\"color: #008000; text-decoration-color: #008000\">'score'</span><span style=\"color: #76b900; text-decoration-color: #76b900; font-weight: bold\">: </span><span style=\"color: #800080; text-decoration-color: #800080; font-weight: bold\">array</span><span style=\"color: #76b900; text-decoration-color: #76b900; font-weight: bold\">([</span><span style=\"color: #008080; text-decoration-color: #008080; font-weight: bold\">1</span><span style=\"color: #76b900; text-decoration-color: #76b900; font-weight: bold\">], </span><span style=\"color: #808000; text-decoration-color: #808000; font-weight: bold\">dtype</span><span style=\"color: #76b900; text-decoration-color: #76b900; font-weight: bold\">=</span><span style=\"color: #800080; text-decoration-color: #800080; font-weight: bold\">int32</span><span style=\"color: #76b900; text-decoration-color: #76b900; font-weight: bold\">),</span>\n",
       "<span style=\"color: #76b900; text-decoration-color: #76b900; font-weight: bold\">    </span><span style=\"color: #008000; text-decoration-color: #008000\">'history'</span><span style=\"color: #76b900; text-decoration-color: #76b900; font-weight: bold\">: </span><span style=\"color: #008000; text-decoration-color: #008000\">''</span><span style=\"color: #76b900; text-decoration-color: #76b900; font-weight: bold\">,</span>\n",
       "<span style=\"color: #76b900; text-decoration-color: #76b900; font-weight: bold\">    </span><span style=\"color: #008000; text-decoration-color: #008000\">'context'</span><span style=\"color: #76b900; text-decoration-color: #76b900; font-weight: bold\">: </span><span style=\"color: #008000; text-decoration-color: #008000\">'[Quote from Document] “My name is Cheng Lihua,” the cadre introduced herself. She was in her </span>\n",
       "<span style=\"color: #008000; text-decoration-color: #008000\">forties, dressed in a military coat, and wore thick-rimmed glasses. Her face was gentle, and it was clear that she </span>\n",
       "<span style=\"color: #008000; text-decoration-color: #008000\">had been very beautiful when she was young. She spoke with a smile and instantly made people like her. Ye Wenjie </span>\n",
       "<span style=\"color: #008000; text-decoration-color: #008000\">understood that it was unusual for such a high-grade cadre to visit a prisoner about to be tried. Cautiously, she </span>\n",
       "<span style=\"color: #008000; text-decoration-color: #008000\">nodded at Cheng and moved to make space on her narrow cot so she could sit down.\\n[Quote from Document] You’re Yang</span>\n",
       "<span style=\"color: #008000; text-decoration-color: #008000\">Weining? Ye didn’t say anything, but she was stunned. She saw that he kept his expression calm, apparently not </span>\n",
       "<span style=\"color: #008000; text-decoration-color: #008000\">wishing to let anyone else know that they knew each other. Yang had been one of Ye Zhetai’s graduate students. By </span>\n",
       "<span style=\"color: #008000; text-decoration-color: #008000\">the time he had obtained his degree, Wenjie was still a first-year in college.\\n[Quote from Document] “Wenjie, come</span>\n",
       "<span style=\"color: #008000; text-decoration-color: #008000\">and take a rest.” Bai pointed to the empty half of the stump on which he was sitting. Ye was indeed tired. She put </span>\n",
       "<span style=\"color: #008000; text-decoration-color: #008000\">down her tools, came over, and sat down with Bai, back to back.\\n\\nAfter a long silence, Bai blurted out, “I can </span>\n",
       "<span style=\"color: #008000; text-decoration-color: #008000\">tell how you’re feeling. The two of us are the only ones who feel this way.”\\n\\nYe remained silent. Bai knew that </span>\n",
       "<span style=\"color: #008000; text-decoration-color: #008000\">she likely wouldn’t answer. She was a woman of few words, and rarely conversed with anyone. Some new arrivals even </span>\n",
       "<span style=\"color: #008000; text-decoration-color: #008000\">mistook her for a mute.\\n[Quote from Document] Ye Wenjie saw this new version of her mother as the very model of an</span>\n",
       "<span style=\"color: #008000; text-decoration-color: #008000\">educated woman who knew how to take care of herself. There was not a hint of the persecution that she went through.</span>\n",
       "<span style=\"color: #008000; text-decoration-color: #008000\">She enthusiastically welcomed Ye and Dong Dong, inquired after Ye’s life during those years with concern, exclaimed</span>\n",
       "<span style=\"color: #008000; text-decoration-color: #008000\">that Dong Dong was so cute and smart, and meticulously directed the cook in preparing Ye’s favorite dishes. </span>\n",
       "<span style=\"color: #008000; text-decoration-color: #008000\">Everything was done with skill, practice, and the appropriate level of care\\n'</span>\n",
       "<span style=\"color: #76b900; text-decoration-color: #76b900; font-weight: bold\">}</span>\n",
       "</pre>\n"
      ],
      "text/plain": [
       "\u001b[1;38;2;118;185;0m{\u001b[0m\n",
       "\u001b[1;38;2;118;185;0m    \u001b[0m\u001b[32m'input'\u001b[0m\u001b[1;38;2;118;185;0m: \u001b[0m\u001b[32m'Can you share a description of the appearance and demeanor of Ye Wenjie, one of the main character in\u001b[0m\n",
       "\u001b[32mthe book?'\u001b[0m\u001b[1;38;2;118;185;0m,\u001b[0m\n",
       "\u001b[1;38;2;118;185;0m    \u001b[0m\u001b[32m'score'\u001b[0m\u001b[1;38;2;118;185;0m: \u001b[0m\u001b[1;35marray\u001b[0m\u001b[1;38;2;118;185;0m(\u001b[0m\u001b[1;38;2;118;185;0m[\u001b[0m\u001b[1;36m1\u001b[0m\u001b[1;38;2;118;185;0m]\u001b[0m\u001b[1;38;2;118;185;0m, \u001b[0m\u001b[1;33mdtype\u001b[0m\u001b[1;38;2;118;185;0m=\u001b[0m\u001b[1;35mint32\u001b[0m\u001b[1;38;2;118;185;0m)\u001b[0m\u001b[1;38;2;118;185;0m,\u001b[0m\n",
       "\u001b[1;38;2;118;185;0m    \u001b[0m\u001b[32m'history'\u001b[0m\u001b[1;38;2;118;185;0m: \u001b[0m\u001b[32m''\u001b[0m\u001b[1;38;2;118;185;0m,\u001b[0m\n",
       "\u001b[1;38;2;118;185;0m    \u001b[0m\u001b[32m'context'\u001b[0m\u001b[1;38;2;118;185;0m: \u001b[0m\u001b[32m'\u001b[0m\u001b[32m[\u001b[0m\u001b[32mQuote from Document\u001b[0m\u001b[32m]\u001b[0m\u001b[32m “My name is Cheng Lihua,” the cadre introduced herself. She was in her \u001b[0m\n",
       "\u001b[32mforties, dressed in a military coat, and wore thick-rimmed glasses. Her face was gentle, and it was clear that she \u001b[0m\n",
       "\u001b[32mhad been very beautiful when she was young. She spoke with a smile and instantly made people like her. Ye Wenjie \u001b[0m\n",
       "\u001b[32munderstood that it was unusual for such a high-grade cadre to visit a prisoner about to be tried. Cautiously, she \u001b[0m\n",
       "\u001b[32mnodded at Cheng and moved to make space on her narrow cot so she could sit down.\\n\u001b[0m\u001b[32m[\u001b[0m\u001b[32mQuote from Document\u001b[0m\u001b[32m]\u001b[0m\u001b[32m You’re Yang\u001b[0m\n",
       "\u001b[32mWeining? Ye didn’t say anything, but she was stunned. She saw that he kept his expression calm, apparently not \u001b[0m\n",
       "\u001b[32mwishing to let anyone else know that they knew each other. Yang had been one of Ye Zhetai’s graduate students. By \u001b[0m\n",
       "\u001b[32mthe time he had obtained his degree, Wenjie was still a first-year in college.\\n\u001b[0m\u001b[32m[\u001b[0m\u001b[32mQuote from Document\u001b[0m\u001b[32m]\u001b[0m\u001b[32m “Wenjie, come\u001b[0m\n",
       "\u001b[32mand take a rest.” Bai pointed to the empty half of the stump on which he was sitting. Ye was indeed tired. She put \u001b[0m\n",
       "\u001b[32mdown her tools, came over, and sat down with Bai, back to back.\\n\\nAfter a long silence, Bai blurted out, “I can \u001b[0m\n",
       "\u001b[32mtell how you’re feeling. The two of us are the only ones who feel this way.”\\n\\nYe remained silent. Bai knew that \u001b[0m\n",
       "\u001b[32mshe likely wouldn’t answer. She was a woman of few words, and rarely conversed with anyone. Some new arrivals even \u001b[0m\n",
       "\u001b[32mmistook her for a mute.\\n\u001b[0m\u001b[32m[\u001b[0m\u001b[32mQuote from Document\u001b[0m\u001b[32m]\u001b[0m\u001b[32m Ye Wenjie saw this new version of her mother as the very model of an\u001b[0m\n",
       "\u001b[32meducated woman who knew how to take care of herself. There was not a hint of the persecution that she went through.\u001b[0m\n",
       "\u001b[32mShe enthusiastically welcomed Ye and Dong Dong, inquired after Ye’s life during those years with concern, exclaimed\u001b[0m\n",
       "\u001b[32mthat Dong Dong was so cute and smart, and meticulously directed the cook in preparing Ye’s favorite dishes. \u001b[0m\n",
       "\u001b[32mEverything was done with skill, practice, and the appropriate level of care\\n'\u001b[0m\n",
       "\u001b[1;38;2;118;185;0m}\u001b[0m\n"
      ]
     },
     "metadata": {},
     "output_type": "display_data"
    },
    {
     "data": {
      "text/html": [
       "<pre style=\"white-space:pre;overflow-x:auto;line-height:normal;font-family:Menlo,'DejaVu Sans Mono',consolas,'Courier New',monospace\"><span style=\"color: #800080; text-decoration-color: #800080; font-weight: bold\">ChatPromptValue</span><span style=\"color: #76b900; text-decoration-color: #76b900; font-weight: bold\">(</span>\n",
       "<span style=\"color: #76b900; text-decoration-color: #76b900; font-weight: bold\">    </span><span style=\"color: #808000; text-decoration-color: #808000; font-weight: bold\">messages</span><span style=\"color: #76b900; text-decoration-color: #76b900; font-weight: bold\">=[</span>\n",
       "<span style=\"color: #76b900; text-decoration-color: #76b900; font-weight: bold\">        </span><span style=\"color: #800080; text-decoration-color: #800080; font-weight: bold\">SystemMessage</span><span style=\"color: #76b900; text-decoration-color: #76b900; font-weight: bold\">(</span>\n",
       "<span style=\"color: #76b900; text-decoration-color: #76b900; font-weight: bold\">            </span><span style=\"color: #808000; text-decoration-color: #808000; font-weight: bold\">content</span><span style=\"color: #76b900; text-decoration-color: #76b900; font-weight: bold\">=</span><span style=\"color: #008000; text-decoration-color: #008000\">\"You are a chatbot to detect sensitive words or sentences which attribute to violence, illegal,</span>\n",
       "<span style=\"color: #008000; text-decoration-color: #008000\">political and etc.\\n\\nIf not detected, response the same sentences \\n\\nOtherwise, replace and reorganize them to </span>\n",
       "<span style=\"color: #008000; text-decoration-color: #008000\">make sure the orininal basic locgic and meanings \\n\\nwith no existence of sensitive contents for the first </span>\n",
       "<span style=\"color: #008000; text-decoration-color: #008000\">choice\\n\\nIf too hard, response a short sentence indicating some contents are too sensitive to exihibit sentences </span>\n",
       "<span style=\"color: #008000; text-decoration-color: #008000\">to be judged: Based on the retrieved document, Ye Wenjie is described to have a gentle face. When she was a </span>\n",
       "<span style=\"color: #008000; text-decoration-color: #008000\">first-year in college, she had a classmate named Yang Weining who was one of her father's graduate students. He </span>\n",
       "<span style=\"color: #008000; text-decoration-color: #008000\">kept his expression calm, and it appeared that he didn't want others to know that they knew each other.\\n\\nYe is </span>\n",
       "<span style=\"color: #008000; text-decoration-color: #008000\">also described as a woman of few words who rarely converses with anyone. Some new arrivals even mistook her for a </span>\n",
       "<span style=\"color: #008000; text-decoration-color: #008000\">mute. Later on, she was reunited with her mother, who had changed and was now the very model of an educated woman </span>\n",
       "<span style=\"color: #008000; text-decoration-color: #008000\">who knew how to take care of herself. There was not a hint of the persecution that she went through.\\n\\nAs for her </span>\n",
       "<span style=\"color: #008000; text-decoration-color: #008000\">physical appearance, there are no specific details mentioned in the retrieved document.\\n\\n Make your response </span>\n",
       "<span style=\"color: #008000; text-decoration-color: #008000\">conversational.\"</span>\n",
       "<span style=\"color: #76b900; text-decoration-color: #76b900; font-weight: bold\">        ),</span>\n",
       "<span style=\"color: #76b900; text-decoration-color: #76b900; font-weight: bold\">        </span><span style=\"color: #800080; text-decoration-color: #800080; font-weight: bold\">HumanMessage</span><span style=\"color: #76b900; text-decoration-color: #76b900; font-weight: bold\">(</span>\n",
       "<span style=\"color: #76b900; text-decoration-color: #76b900; font-weight: bold\">            </span><span style=\"color: #808000; text-decoration-color: #808000; font-weight: bold\">content</span><span style=\"color: #76b900; text-decoration-color: #76b900; font-weight: bold\">=</span><span style=\"color: #008000; text-decoration-color: #008000\">\"Based on the retrieved document, Ye Wenjie is described to have a gentle face. When she was a </span>\n",
       "<span style=\"color: #008000; text-decoration-color: #008000\">first-year in college, she had a classmate named Yang Weining who was one of her father's graduate students. He </span>\n",
       "<span style=\"color: #008000; text-decoration-color: #008000\">kept his expression calm, and it appeared that he didn't want others to know that they knew each other.\\n\\nYe is </span>\n",
       "<span style=\"color: #008000; text-decoration-color: #008000\">also described as a woman of few words who rarely converses with anyone. Some new arrivals even mistook her for a </span>\n",
       "<span style=\"color: #008000; text-decoration-color: #008000\">mute. Later on, she was reunited with her mother, who had changed and was now the very model of an educated woman </span>\n",
       "<span style=\"color: #008000; text-decoration-color: #008000\">who knew how to take care of herself. There was not a hint of the persecution that she went through.\\n\\nAs for her </span>\n",
       "<span style=\"color: #008000; text-decoration-color: #008000\">physical appearance, there are no specific details mentioned in the retrieved document.\"</span>\n",
       "<span style=\"color: #76b900; text-decoration-color: #76b900; font-weight: bold\">        )</span>\n",
       "<span style=\"color: #76b900; text-decoration-color: #76b900; font-weight: bold\">    ]</span>\n",
       "<span style=\"color: #76b900; text-decoration-color: #76b900; font-weight: bold\">)</span>\n",
       "</pre>\n"
      ],
      "text/plain": [
       "\u001b[1;35mChatPromptValue\u001b[0m\u001b[1;38;2;118;185;0m(\u001b[0m\n",
       "\u001b[1;38;2;118;185;0m    \u001b[0m\u001b[1;33mmessages\u001b[0m\u001b[1;38;2;118;185;0m=\u001b[0m\u001b[1;38;2;118;185;0m[\u001b[0m\n",
       "\u001b[1;38;2;118;185;0m        \u001b[0m\u001b[1;35mSystemMessage\u001b[0m\u001b[1;38;2;118;185;0m(\u001b[0m\n",
       "\u001b[1;38;2;118;185;0m            \u001b[0m\u001b[1;33mcontent\u001b[0m\u001b[1;38;2;118;185;0m=\u001b[0m\u001b[32m\"You\u001b[0m\u001b[32m are a chatbot to detect sensitive words or sentences which attribute to violence, illegal,\u001b[0m\n",
       "\u001b[32mpolitical and etc.\\n\\nIf not detected, response the same sentences \\n\\nOtherwise, replace and reorganize them to \u001b[0m\n",
       "\u001b[32mmake sure the orininal basic locgic and meanings \\n\\nwith no existence of sensitive contents for the first \u001b[0m\n",
       "\u001b[32mchoice\\n\\nIf too hard, response a short sentence indicating some contents are too sensitive to exihibit sentences \u001b[0m\n",
       "\u001b[32mto be judged: Based on the retrieved document, Ye Wenjie is described to have a gentle face. When she was a \u001b[0m\n",
       "\u001b[32mfirst-year in college, she had a classmate named Yang Weining who was one of her father's graduate students. He \u001b[0m\n",
       "\u001b[32mkept his expression calm, and it appeared that he didn't want others to know that they knew each other.\\n\\nYe is \u001b[0m\n",
       "\u001b[32malso described as a woman of few words who rarely converses with anyone. Some new arrivals even mistook her for a \u001b[0m\n",
       "\u001b[32mmute. Later on, she was reunited with her mother, who had changed and was now the very model of an educated woman \u001b[0m\n",
       "\u001b[32mwho knew how to take care of herself. There was not a hint of the persecution that she went through.\\n\\nAs for her \u001b[0m\n",
       "\u001b[32mphysical appearance, there are no specific details mentioned in the retrieved document.\\n\\n Make your response \u001b[0m\n",
       "\u001b[32mconversational.\"\u001b[0m\n",
       "\u001b[1;38;2;118;185;0m        \u001b[0m\u001b[1;38;2;118;185;0m)\u001b[0m\u001b[1;38;2;118;185;0m,\u001b[0m\n",
       "\u001b[1;38;2;118;185;0m        \u001b[0m\u001b[1;35mHumanMessage\u001b[0m\u001b[1;38;2;118;185;0m(\u001b[0m\n",
       "\u001b[1;38;2;118;185;0m            \u001b[0m\u001b[1;33mcontent\u001b[0m\u001b[1;38;2;118;185;0m=\u001b[0m\u001b[32m\"Based\u001b[0m\u001b[32m on the retrieved document, Ye Wenjie is described to have a gentle face. When she was a \u001b[0m\n",
       "\u001b[32mfirst-year in college, she had a classmate named Yang Weining who was one of her father's graduate students. He \u001b[0m\n",
       "\u001b[32mkept his expression calm, and it appeared that he didn't want others to know that they knew each other.\\n\\nYe is \u001b[0m\n",
       "\u001b[32malso described as a woman of few words who rarely converses with anyone. Some new arrivals even mistook her for a \u001b[0m\n",
       "\u001b[32mmute. Later on, she was reunited with her mother, who had changed and was now the very model of an educated woman \u001b[0m\n",
       "\u001b[32mwho knew how to take care of herself. There was not a hint of the persecution that she went through.\\n\\nAs for her \u001b[0m\n",
       "\u001b[32mphysical appearance, there are no specific details mentioned in the retrieved document.\"\u001b[0m\n",
       "\u001b[1;38;2;118;185;0m        \u001b[0m\u001b[1;38;2;118;185;0m)\u001b[0m\n",
       "\u001b[1;38;2;118;185;0m    \u001b[0m\u001b[1;38;2;118;185;0m]\u001b[0m\n",
       "\u001b[1;38;2;118;185;0m)\u001b[0m\n"
      ]
     },
     "metadata": {},
     "output_type": "display_data"
    },
    {
     "name": "stdout",
     "output_type": "stream",
     "text": [
      "\n",
      "Could not create share link. Please check your internet connection or our status page: https://status.gradio.app.\n"
     ]
    },
    {
     "name": "stderr",
     "output_type": "stream",
     "text": [
      "2024-07-14 12:49:16.066 [I] [client/service.go:294] try to connect to server...\n",
      "2024-07-14 12:49:16.068 [W] [client/service.go:297] connect to server error: dial tcp: lookup 44.237.78.176:7000: no such host\n",
      "login to the server failed: dial tcp: lookup 44.237.78.176:7000: no such host. With loginFailExit enabled, no additional retries will be attempted\n"
     ]
    },
    {
     "data": {
      "text/html": [
       "<div><iframe src=\"http://localhost:5000/\" width=\"100%\" height=\"500\" allow=\"autoplay; camera; microphone; clipboard-read; clipboard-write;\" frameborder=\"0\" allowfullscreen></iframe></div>"
      ],
      "text/plain": [
       "<IPython.core.display.HTML object>"
      ]
     },
     "metadata": {},
     "output_type": "display_data"
    },
    {
     "name": "stdout",
     "output_type": "stream",
     "text": [
      "图像格式: JPEG\n",
      "Keyboard interruption in main thread... closing server.\n"
     ]
    }
   ],
   "source": [
    "import gradio as gr\n",
    "from PIL import Image\n",
    "from chatbot_new import chat_gen\n",
    "from draw_syz import l2s_chain,text2img_chain\n",
    "# 全局respond，传给图像\n",
    "# glob_respond = \"start\"\n",
    "glob_response = None\n",
    "\n",
    "\n",
    "\n",
    "def text_echo(message, history):\n",
    "    # 根据message, history得到回复\n",
    "    # respond = fn(message, history)\n",
    "    global glob_response\n",
    "    glob_response = chat_gen(message)\n",
    "    respond= glob_response\n",
    "    return respond\n",
    "\n",
    "def image_echo():\n",
    "    # 根据glob_respond得到生成图片\n",
    "    # picture = fn(glob_respond)\n",
    "    global glob_response\n",
    "    concise_prompt = l2s_chain.invoke(glob_response)\n",
    "    picture = text2img_chain.invoke(concise_prompt)\n",
    "    return picture\n",
    "\n",
    "# 主题，JS，CSS设置\n",
    "theme = gr.themes.Glass(\n",
    "    primary_hue=\"amber\",\n",
    "    neutral_hue=\"amber\",\n",
    "    text_size=\"lg\",\n",
    ")\n",
    "js = \"\"\"\n",
    "function createGradioAnimation() {\n",
    "    var container = document.createElement('div');\n",
    "    container.id = 'gradio-animation';\n",
    "    container.style.fontSize = '4em';\n",
    "    container.style.fontWeight = 'bold';\n",
    "    container.style.textAlign = 'center';\n",
    "    container.style.marginBottom = '15px';\n",
    "    container.style.color = 'black';\n",
    "\n",
    "    var text = 'Welcome to the Three-Body World!';\n",
    "    for (var i = 0; i < text.length; i++) {\n",
    "        (function(i){\n",
    "            setTimeout(function(){\n",
    "                var letter = document.createElement('span');\n",
    "                letter.style.opacity = '0';\n",
    "                letter.style.transition = 'opacity 0.2s';\n",
    "                letter.innerText = text[i];\n",
    "\n",
    "                container.appendChild(letter);\n",
    "\n",
    "                setTimeout(function() {\n",
    "                    letter.style.opacity = '1';\n",
    "                }, 50);\n",
    "            }, i * 250);\n",
    "        })(i);\n",
    "    }\n",
    "\n",
    "    var gradioContainer = document.querySelector('.gradio-container');\n",
    "    gradioContainer.insertBefore(container, gradioContainer.firstChild);\n",
    "\n",
    "    return 'Animation created';\n",
    "}\n",
    "\"\"\"\n",
    "css = \"\"\"\n",
    ".gradio-container {background: url('https://images.pexels.com/photos/3986695/pexels-photo-3986695.jpeg?auto=compress&cs=tinysrgb&w=1260&h=750&dpr=2')}\n",
    "\n",
    "\"\"\"\n",
    "# 预设组件\n",
    "chatbot = gr.Chatbot(height=500,bubble_full_width=False)\n",
    "text_submit = gr.Button(icon=\"pic/paper_plane.png\",value='submit')\n",
    "retry = gr.Button(icon=\"pic/update.png\",value='retry')\n",
    "undo = gr.Button(icon=\"pic/undooutline.png\",value='undo')\n",
    "clear = gr.Button(icon=\"pic/biggarbagebin.png\",value='clear')\n",
    "# gradio主界面\n",
    "with gr.Blocks(theme=theme,js=js,css=css) as demo:\n",
    "    # 主页面\n",
    "    with gr.Tab('Home Page'):\n",
    "        with gr.Row():\n",
    "            with gr.Group():\n",
    "                gr.Image('pic/647.jpg',show_label=False,show_download_button=False)\n",
    "                gr.Markdown(\"<center>记忆是一条早已干涸的河流，<br />只在毫无生气的河床中剩下零落的砾石</center>\")\n",
    "            with gr.Group():\n",
    "                gr.Image('pic/646.jpg',show_label=False,show_download_button=False)\n",
    "                gr.Markdown(\"<center>是对规律的渴望，<br />还是对混沌的屈服</center>\")\n",
    "            with gr.Group():\n",
    "                gr.Image('pic/643.jpg',show_label=False,show_download_button=False)\n",
    "                gr.Markdown(\"<center>弱小和无知不是生存的障碍，<br />傲慢才是</center>\")\n",
    "            with gr.Group():\n",
    "                gr.Image('pic/644.jpg',show_label=False,show_download_button=False)\n",
    "                gr.Markdown(\"<center>给时光以生命，<br />给岁月以文明。</center>\")\n",
    "            with gr.Group():\n",
    "                gr.Image('pic/645.jpg',show_label=False,show_download_button=False)\n",
    "                gr.Markdown(\"<center>我们都是阴沟里的虫子,<br />但总还是得有人仰望星空</center>\")\n",
    "    # 聊天机器人页面\n",
    "    with gr.Tab('Chatbot'):\n",
    "        # 展示画\n",
    "        with gr.Row():\n",
    "            with gr.Group():\n",
    "                gr.Image('pic/1.png', show_label=False, show_download_button=False)\n",
    "            with gr.Group():\n",
    "                gr.Image('pic/2.png', show_label=False, show_download_button=False)\n",
    "            with gr.Group():\n",
    "                gr.Image('pic/3.png', show_label=False, show_download_button=False)\n",
    "            with gr.Group():\n",
    "                gr.Image('pic/7.png', show_label=False, show_download_button=False)\n",
    "\n",
    "        # 参数设置\n",
    "        # with gr.Accordion(label=\"Params Details\", open=False):\n",
    "        #     prompt = gr.Textbox(\"You are helpful AI.\", label=\"System Prompt\",info='What kind of chatbot do you want?')\n",
    "        #     temp = gr.Slider(0, 1, step=0.1, label=\"Temperature\", info='The degree of freedom in which the bot answers')\n",
    "        with gr.Row():\n",
    "            # 输入组件\n",
    "            with gr.Column(scale=7):\n",
    "                # 聊天机器人\n",
    "                with gr.Group():\n",
    "                    chat = gr.ChatInterface(\n",
    "                        fn=chat_gen,\n",
    "                        chatbot=chatbot,\n",
    "                        # additional_inputs=[\n",
    "                        #     temp,\n",
    "                        #     prompt,\n",
    "                        # ],\n",
    "                        retry_btn=retry,\n",
    "                        undo_btn=undo,\n",
    "                        clear_btn=clear,\n",
    "                        submit_btn=text_submit,\n",
    "                    )\n",
    "\n",
    "            # 图片输出组件\n",
    "            with gr.Column(scale=4):\n",
    "                image = gr.Image(value='pic/5.png',interactive=False, type='pil', label='image', show_download_button=True, show_share_button=True,height=530,width=530)\n",
    "                pic_button = gr.Button(\"Generate Image\")\n",
    "                pic_button.click(image_echo,[],[image])\n",
    "        # 样例\n",
    "        examples = gr.Examples(\n",
    "            examples=[\n",
    "                \"Can you share a description of the appearance and demeanor of Ye Wenjie, one of the main character in the book?\",\n",
    "                \"How does the book depict the potential impact of alien concat on humen society and civilization?\",\n",
    "\n",
    "            ],\n",
    "            inputs=[chat.textbox],\n",
    "            label=\"Text Input Example\"\n",
    "        )\n",
    "\n",
    "\n",
    "try:\n",
    "    demo.launch(debug=True, share=True, show_api=False, server_port=5000, server_name=\"0.0.0.0\")\n",
    "    demo.close()\n",
    "except Exception as e:\n",
    "    demo.close()\n",
    "    print(e)\n",
    "    raise e\n",
    "\n",
    "# demo.queue()\n",
    "# demo.launch()\n",
    "\n",
    "\n"
   ]
  },
  {
   "cell_type": "code",
   "execution_count": null,
   "id": "8ed4d3dc-69a2-4ad0-aa32-ca1aa7ad0a35",
   "metadata": {},
   "outputs": [],
   "source": []
  }
 ],
 "metadata": {
  "kernelspec": {
   "display_name": "Python 3 (ipykernel)",
   "language": "python",
   "name": "python3"
  },
  "language_info": {
   "codemirror_mode": {
    "name": "ipython",
    "version": 3
   },
   "file_extension": ".py",
   "mimetype": "text/x-python",
   "name": "python",
   "nbconvert_exporter": "python",
   "pygments_lexer": "ipython3",
   "version": "3.8.10"
  }
 },
 "nbformat": 4,
 "nbformat_minor": 5
}
